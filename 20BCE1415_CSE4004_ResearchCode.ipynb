{
 "cells": [
  {
   "cell_type": "code",
   "execution_count": 33,
   "id": "b51abcb7",
   "metadata": {},
   "outputs": [],
   "source": [
    "# Importing necessary libraries and packages\n",
    "import numpy as np\n",
    "import pandas as pd\n",
    "import matplotlib.pyplot as plt\n",
    "import seaborn as sns\n",
    "import contractions\n",
    "import re\n",
    "import spacy\n",
    "import gensim\n",
    "from sklearn.feature_extraction.text import CountVectorizer, TfidfTransformer\n",
    "from xgboost import XGBClassifier\n",
    "from sklearn.preprocessing import LabelEncoder, MinMaxScaler\n",
    "from sklearn.model_selection import train_test_split, StratifiedKFold, cross_val_score\n",
    "from prettytable import PrettyTable\n",
    "from sklearn.metrics import accuracy_score, confusion_matrix, matthews_corrcoef, precision_score, recall_score, f1_score\n",
    "from sklearn.decomposition import TruncatedSVD\n",
    "from sklearn.tree import DecisionTreeClassifier\n",
    "from imblearn.over_sampling import RandomOverSampler\n",
    "from sklearn.ensemble import HistGradientBoostingClassifier, AdaBoostClassifier, RandomForestClassifier, ExtraTreesClassifier, StackingClassifier\n",
    "from sklearn.svm import SVC\n",
    "from sklearn.linear_model import LogisticRegression\n",
    "from catboost import CatBoostClassifier"
   ]
  },
  {
   "cell_type": "code",
   "execution_count": 2,
   "id": "04250ac6",
   "metadata": {},
   "outputs": [],
   "source": [
    "# Loading the dataset\n",
    "df = pd.read_excel('SEFACED_Email_Forensic_Dataset.xlsx')"
   ]
  },
  {
   "cell_type": "markdown",
   "id": "c665f529",
   "metadata": {},
   "source": [
    "<b>Dataset Description: </b>The dataset used in this study is an amalgamation of 3 existing datasets and 1 newly created datasets. The dataset contains Normal e-mails from Enron Corpora, Fraudulent e-mails provided by Phished e-mails corpora which contain misleading information, Harassment messages selected from “Hate Speech & Offensive Dataset\". We enhanced the dataset of Email Forensics by adding the suspicious emails data from our personal email sources, and twitter source. The suspicious dataset contains some terrorism-related messages collected from Twitter by API. These different datasets are merged into a structural file to make the multiclass E-mail classification possible. The number of Normal, Fraudulent, Harassment, and Suspicious emails are 9001, 9001, 9138, and 5287 respectively. The header information such as sender, subject, CC, and BCC are removed; only the Email body’s content is used for analysis. The dataset after composition contains about 32,427 messages."
   ]
  },
  {
   "cell_type": "code",
   "execution_count": 3,
   "id": "85fe951c",
   "metadata": {},
   "outputs": [
    {
     "data": {
      "text/html": [
       "<div>\n",
       "<style scoped>\n",
       "    .dataframe tbody tr th:only-of-type {\n",
       "        vertical-align: middle;\n",
       "    }\n",
       "\n",
       "    .dataframe tbody tr th {\n",
       "        vertical-align: top;\n",
       "    }\n",
       "\n",
       "    .dataframe thead th {\n",
       "        text-align: right;\n",
       "    }\n",
       "</style>\n",
       "<table border=\"1\" class=\"dataframe\">\n",
       "  <thead>\n",
       "    <tr style=\"text-align: right;\">\n",
       "      <th></th>\n",
       "      <th>Text</th>\n",
       "      <th>Class_Label</th>\n",
       "    </tr>\n",
       "  </thead>\n",
       "  <tbody>\n",
       "    <tr>\n",
       "      <th>0</th>\n",
       "      <td>Let me know when you get the quotes from Pauli...</td>\n",
       "      <td>Normal</td>\n",
       "    </tr>\n",
       "    <tr>\n",
       "      <th>1</th>\n",
       "      <td>---------------------- Forwarded by Phillip K ...</td>\n",
       "      <td>Normal</td>\n",
       "    </tr>\n",
       "    <tr>\n",
       "      <th>2</th>\n",
       "      <td>Steve, Please remove Bob Shiring and Liz River...</td>\n",
       "      <td>Normal</td>\n",
       "    </tr>\n",
       "    <tr>\n",
       "      <th>3</th>\n",
       "      <td>Go ahead and order the ac for #27. Can you ema...</td>\n",
       "      <td>Normal</td>\n",
       "    </tr>\n",
       "    <tr>\n",
       "      <th>4</th>\n",
       "      <td>Anymore details? Is the offer above or below 6...</td>\n",
       "      <td>Normal</td>\n",
       "    </tr>\n",
       "  </tbody>\n",
       "</table>\n",
       "</div>"
      ],
      "text/plain": [
       "                                                Text Class_Label\n",
       "0  Let me know when you get the quotes from Pauli...      Normal\n",
       "1  ---------------------- Forwarded by Phillip K ...      Normal\n",
       "2  Steve, Please remove Bob Shiring and Liz River...      Normal\n",
       "3  Go ahead and order the ac for #27. Can you ema...      Normal\n",
       "4  Anymore details? Is the offer above or below 6...      Normal"
      ]
     },
     "execution_count": 3,
     "metadata": {},
     "output_type": "execute_result"
    }
   ],
   "source": [
    "# Displaying the first five records of the dataset\n",
    "df.head()"
   ]
  },
  {
   "cell_type": "code",
   "execution_count": 4,
   "id": "a8ef61c8",
   "metadata": {},
   "outputs": [
    {
     "data": {
      "text/plain": [
       "(42153, 2)"
      ]
     },
     "execution_count": 4,
     "metadata": {},
     "output_type": "execute_result"
    }
   ],
   "source": [
    "# Displaying the shape of the dataset i.e. (no. of records, no. of attributes)\n",
    "df.shape"
   ]
  },
  {
   "cell_type": "code",
   "execution_count": 5,
   "id": "56e40446",
   "metadata": {},
   "outputs": [
    {
     "data": {
      "text/plain": [
       "array(['Normal', 'Suspicious', 'Fraudulent', 'Harrasment'], dtype=object)"
      ]
     },
     "execution_count": 5,
     "metadata": {},
     "output_type": "execute_result"
    }
   ],
   "source": [
    "# Displaying the unique class labels\n",
    "df['Class_Label'].unique()"
   ]
  },
  {
   "cell_type": "code",
   "execution_count": 6,
   "id": "1530767b",
   "metadata": {},
   "outputs": [
    {
     "name": "stdout",
     "output_type": "stream",
     "text": [
      "Let me know when you get the quotes from Pauline. I am expecting to pay something in the $3,000 to $5,000 range. I would like to see the quotes and a description of the work to be done. It is my understanding that some rock will be removed and replaced with siding. If they are getting quotes to put up new rock then we will need to clarify. Jacques is ready to drop in a dollar amount on the release. If the negotiations stall, it seems like I need to go ahead and cut off the utilities. Hopefully things will go smoothly. Phillip \n",
      "\n",
      "---------------------- Forwarded by Phillip K Allen/HOU/ECT on 04/24/2001 02:23 PM --------------------------- Eric Benson@ENRON on 04/24/2001 11:47:40 AM To: Phillip K Allen/HOU/ECT@ECT cc: Subject: Instructions for FERC Meetings Mr. Allen - Per our phon \n",
      "\n",
      "Steve, Please remove Bob Shiring and Liz Rivera from rc #768. Thank you Phillip Allen \n",
      "\n",
      "Go ahead and order the ac for #27. Can you email or fax a summary of all rents collected from August through December. I need this to finish my tax return. I have all the expense data but not rent collection. Fax number is 713-646-3239. Thank you, Phillip \n",
      "\n",
      "Anymore details? Is the offer above or below 675? What else do you have in a clean 11cap in a good location with room to expand? \n",
      "\n"
     ]
    }
   ],
   "source": [
    "# Displaying the entire text for first five records with Class_Label = Normal\n",
    "for text in df[df['Class_Label']=='Normal']['Text'].head():\n",
    "    print(text,'\\n')"
   ]
  },
  {
   "cell_type": "code",
   "execution_count": 7,
   "id": "2252dce9",
   "metadata": {},
   "outputs": [
    {
     "name": "stdout",
     "output_type": "stream",
     "text": [
      "Re: Chris Stevens \n",
      "\n",
      "FVV: Cairo Condemnation - Final \n",
      "\n",
      "nan \n",
      "\n",
      "Meet The Right Wing Extremist Behind Anti-Muslim Film That Sparked Deadly Riots \n",
      "\n",
      "FW: Anti-Muslim film director in hiding, following Libya, Egypt violence \n",
      "\n"
     ]
    }
   ],
   "source": [
    "# Displaying the entire text for first five records with Class_Label = Suspicious\n",
    "for text in df[df['Class_Label']=='Suspicious']['Text'].head():\n",
    "    print(text,'\\n')"
   ]
  },
  {
   "cell_type": "code",
   "execution_count": 8,
   "id": "39eb5956",
   "metadata": {},
   "outputs": [
    {
     "name": "stdout",
     "output_type": "stream",
     "text": [
      "Supply Quality China's EXCLUSIVE dimensions at Unbeatable Price.Dear Sir, We are pleased to inform you as one of China's largest export & import sto=ne company-Wanlistone Group, The Group its subsidia... \n",
      "\n",
      "Dear Friend,Greetings to you.I wish to accost you with a request that would be of immense benefit to both of us. Being an executor of wills, it is possible that we may be tempted to make fortune out o... \n",
      "\n",
      "MR. CHEUNG PUIHANG SENG BANK LTD.DES VOEUX RD. BRANCH,CENTRAL HONG KONG,HONG KONG. Let me start by introducing myself. I am Mr.Cheung Pui director of operations of the Hang Seng Bank Ltd. I have an ur... \n",
      "\n",
      "Greetings from barrister Robert Williams=2CDear friend=2C I know that my letter will come to you as a surprise=2C b=ased on the fact that we have not been in contact for the first time eit=her in pers... \n",
      "\n",
      "SOLICITING FOR A BUSINESS VENTURE AND PARTNESHIP.DEAR SIR,I AM THE SON OF THE LATE PRESIDENT OF THE FEDERAL REPUBLIC OF ZAIRE, =PRESIDENT MOBUTU SESE SEKO,(NOW REPUBLIC OF CONGO UNDER THE LEADERSHIP O... \n",
      "\n"
     ]
    }
   ],
   "source": [
    "# Displaying the entire text for first five records with Class_Label = Fraudulent\n",
    "for text in df[df['Class_Label']=='Fraudulent']['Text'].head():\n",
    "    print(text,'\\n')"
   ]
  },
  {
   "cell_type": "code",
   "execution_count": 9,
   "id": "220d6010",
   "metadata": {},
   "outputs": [
    {
     "name": "stdout",
     "output_type": "stream",
     "text": [
      "!!!!! RT @mleew17: boy dats cold...tyga dwn bad for cuffin dat hoe in the 1st place!! \n",
      "\n",
      "!!!!!!! RT @UrKindOfBrand Dawg!!!! RT @80sbaby4life: You ever fuck a bitch and she start to cry? You be confused as shit \n",
      "\n",
      "!!!!!!!!! RT @C_G_Anderson: @viva_based she look like a tranny \n",
      "\n",
      "!!!!!!!!!!!!! RT @ShenikaRoberts: The shit you hear about me might be true or it might be faker than the bitch who told it to ya &#57361; \n",
      "\n",
      "!!!!!!!!!!!!!!!!!!\"@T_Madison_x: The shit just blows me..claim you so faithful and down for somebody but still fucking with hoes! &#128514;&#128514;&#128514;\" \n",
      "\n"
     ]
    }
   ],
   "source": [
    "# Displaying the entire text for first five records with Class_Label = Harrasment\n",
    "for text in df[df['Class_Label']=='Harrasment']['Text'].head():\n",
    "    print(text,'\\n')"
   ]
  },
  {
   "cell_type": "code",
   "execution_count": 10,
   "id": "3425f564",
   "metadata": {},
   "outputs": [
    {
     "data": {
      "text/plain": [
       "Text           136\n",
       "Class_Label      0\n",
       "dtype: int64"
      ]
     },
     "execution_count": 10,
     "metadata": {},
     "output_type": "execute_result"
    }
   ],
   "source": [
    "# Checking whether the dataset has missing values\n",
    "df.isnull().sum()"
   ]
  },
  {
   "cell_type": "code",
   "execution_count": 11,
   "id": "78732e60",
   "metadata": {},
   "outputs": [],
   "source": [
    "# Removing the records having missing values annd resetting the index\n",
    "df.dropna(axis=0, inplace=True)\n",
    "df.reset_index(inplace=True)\n",
    "df.drop(['index'], axis=1, inplace=True)"
   ]
  },
  {
   "cell_type": "code",
   "execution_count": 12,
   "id": "b4ba34b6",
   "metadata": {},
   "outputs": [],
   "source": [
    "# Copying and storing all the text into another variable\n",
    "text = df['Text'].copy()"
   ]
  },
  {
   "cell_type": "code",
   "execution_count": 13,
   "id": "2d72c37f",
   "metadata": {},
   "outputs": [],
   "source": [
    "# Changing the datatype of all the content into string\n",
    "for i in range(len(text)):\n",
    "    if type(text[i]) is not str:\n",
    "        text[i] = str(text[i])"
   ]
  },
  {
   "cell_type": "code",
   "execution_count": 14,
   "id": "b311d5bd",
   "metadata": {},
   "outputs": [],
   "source": [
    "# Expanding all contractions\n",
    "for i in range(len(text)):\n",
    "    expanded_words = []\n",
    "    for word in text[i].split():\n",
    "        expanded_words.append(contractions.fix(word))\n",
    "    text[i] = ' '.join(expanded_words)"
   ]
  },
  {
   "cell_type": "code",
   "execution_count": 15,
   "id": "50fe0d44",
   "metadata": {},
   "outputs": [],
   "source": [
    "# Removing all special characters and numbers, along with multiple white space characters\n",
    "for i in range(len(text)):\n",
    "    text[i] = re.sub(r'[^\\w\\s]', ' ', text[i])\n",
    "    text[i] = re.sub(r'[\\d\\n\\r]', ' ', text[i])\n",
    "    text[i] = re.sub(r'_+', ' ', text[i])\n",
    "    text[i] = re.sub(r' +', ' ', text[i])"
   ]
  },
  {
   "cell_type": "code",
   "execution_count": 16,
   "id": "f724164a",
   "metadata": {},
   "outputs": [],
   "source": [
    "# Loading the english language model\n",
    "model = spacy.load('en_core_web_sm')"
   ]
  },
  {
   "cell_type": "code",
   "execution_count": 17,
   "id": "facba9eb",
   "metadata": {},
   "outputs": [],
   "source": [
    "# Processing each of the email content using the language model\n",
    "processed_content = [model(sentence) for sentence in text]"
   ]
  },
  {
   "cell_type": "code",
   "execution_count": 18,
   "id": "12f91e98",
   "metadata": {},
   "outputs": [],
   "source": [
    "# Extracting the lemmas for each of the email content\n",
    "for i in range(len(text)):\n",
    "    text[i] = [token.lemma_ for token in processed_content[i]]\n",
    "    text[i] = [word.lower() for word in text[i] if word != ' ']"
   ]
  },
  {
   "cell_type": "code",
   "execution_count": 19,
   "id": "cda04b30",
   "metadata": {},
   "outputs": [],
   "source": [
    "# Replacing the original text in the dataset with the preprocessed text\n",
    "df['Text'] = [' '.join(text[i]) for i in range(len(text))]"
   ]
  },
  {
   "cell_type": "code",
   "execution_count": 20,
   "id": "07c05dd7",
   "metadata": {},
   "outputs": [
    {
     "data": {
      "text/html": [
       "<div>\n",
       "<style scoped>\n",
       "    .dataframe tbody tr th:only-of-type {\n",
       "        vertical-align: middle;\n",
       "    }\n",
       "\n",
       "    .dataframe tbody tr th {\n",
       "        vertical-align: top;\n",
       "    }\n",
       "\n",
       "    .dataframe thead th {\n",
       "        text-align: right;\n",
       "    }\n",
       "</style>\n",
       "<table border=\"1\" class=\"dataframe\">\n",
       "  <thead>\n",
       "    <tr style=\"text-align: right;\">\n",
       "      <th></th>\n",
       "      <th>Text</th>\n",
       "      <th>Class_Label</th>\n",
       "    </tr>\n",
       "  </thead>\n",
       "  <tbody>\n",
       "    <tr>\n",
       "      <th>0</th>\n",
       "      <td>let i know when you get the quote from pauline...</td>\n",
       "      <td>Normal</td>\n",
       "    </tr>\n",
       "    <tr>\n",
       "      <th>1</th>\n",
       "      <td>forward by phillip k allen hou ect on pm eric ...</td>\n",
       "      <td>Normal</td>\n",
       "    </tr>\n",
       "    <tr>\n",
       "      <th>2</th>\n",
       "      <td>steve please remove bob shiring and liz rivera...</td>\n",
       "      <td>Normal</td>\n",
       "    </tr>\n",
       "    <tr>\n",
       "      <th>3</th>\n",
       "      <td>go ahead and order the ac for can you email or...</td>\n",
       "      <td>Normal</td>\n",
       "    </tr>\n",
       "    <tr>\n",
       "      <th>4</th>\n",
       "      <td>anymore detail be the offer above or below wha...</td>\n",
       "      <td>Normal</td>\n",
       "    </tr>\n",
       "  </tbody>\n",
       "</table>\n",
       "</div>"
      ],
      "text/plain": [
       "                                                Text Class_Label\n",
       "0  let i know when you get the quote from pauline...      Normal\n",
       "1  forward by phillip k allen hou ect on pm eric ...      Normal\n",
       "2  steve please remove bob shiring and liz rivera...      Normal\n",
       "3  go ahead and order the ac for can you email or...      Normal\n",
       "4  anymore detail be the offer above or below wha...      Normal"
      ]
     },
     "execution_count": 20,
     "metadata": {},
     "output_type": "execute_result"
    }
   ],
   "source": [
    "# Displaying the first five records of the modified dataset\n",
    "df.head()"
   ]
  },
  {
   "cell_type": "code",
   "execution_count": 21,
   "id": "6d68a19e",
   "metadata": {},
   "outputs": [],
   "source": [
    "# Converting the lists of tokens to a matrix of token counts\n",
    "vectorizer = CountVectorizer(lowercase=False, strip_accents='ascii', analyzer='word', stop_words='english', min_df=5)\n",
    "X = vectorizer.fit_transform(df['Text'])"
   ]
  },
  {
   "cell_type": "code",
   "execution_count": 22,
   "id": "63c9735f",
   "metadata": {},
   "outputs": [],
   "source": [
    "# Converting the matrix of token counts into tf-idf matrix\n",
    "transformer = TfidfTransformer()\n",
    "X = transformer.fit_transform(X)"
   ]
  },
  {
   "cell_type": "code",
   "execution_count": 23,
   "id": "0eb8a4f2",
   "metadata": {},
   "outputs": [],
   "source": [
    "# Performing latent semantic analysis on the tf-idf matrix\n",
    "lsa = TruncatedSVD(n_components=100)\n",
    "X = lsa.fit_transform(X)"
   ]
  },
  {
   "cell_type": "code",
   "execution_count": 24,
   "id": "58871a4b",
   "metadata": {},
   "outputs": [],
   "source": [
    "# Normalizing the values using MinMaxScaler\n",
    "scaler = MinMaxScaler()\n",
    "X = scaler.fit_transform(X)"
   ]
  },
  {
   "cell_type": "code",
   "execution_count": 25,
   "id": "d727b5ee",
   "metadata": {},
   "outputs": [],
   "source": [
    "# Creating an array containing the class labels\n",
    "y = np.array(df['Class_Label'])"
   ]
  },
  {
   "cell_type": "code",
   "execution_count": 26,
   "id": "22c93252",
   "metadata": {},
   "outputs": [],
   "source": [
    "# Encoding the class labels using LabelEncoder\n",
    "encoder = LabelEncoder()\n",
    "y = encoder.fit_transform(y)"
   ]
  },
  {
   "cell_type": "code",
   "execution_count": 27,
   "id": "4a231659",
   "metadata": {
    "scrolled": false
   },
   "outputs": [
    {
     "data": {
      "image/png": "[encoded data removed]",
      "text/plain": [
       "<Figure size 640x480 with 1 Axes>"
      ]
     },
     "metadata": {},
     "output_type": "display_data"
    }
   ],
   "source": [
    "# Checking for class imbalance\n",
    "ax = sns.countplot(x=df['Class_Label'], palette='YlGnBu')\n",
    "ax.bar_label(ax.containers[0]);"
   ]
  },
  {
   "cell_type": "code",
   "execution_count": 28,
   "id": "f92f63f4",
   "metadata": {},
   "outputs": [],
   "source": [
    "# Handling class imbalance by oversampling using RandomOverSampler\n",
    "oversampler = RandomOverSampler()\n",
    "X,y = oversampler.fit_resample(X,y)"
   ]
  },
  {
   "cell_type": "code",
   "execution_count": 29,
   "id": "16b782af",
   "metadata": {},
   "outputs": [],
   "source": [
    "# Splitting the dataset in a 80:20 train-test split ratio\n",
    "X_train,X_test,y_train,y_test = train_test_split(X, y, test_size=0.2, random_state=42)"
   ]
  },
  {
   "cell_type": "code",
   "execution_count": 30,
   "id": "c301dfd5",
   "metadata": {},
   "outputs": [],
   "source": [
    "conf_mat = {}\n",
    "acc = {}"
   ]
  },
  {
   "cell_type": "markdown",
   "id": "3fb4333c",
   "metadata": {},
   "source": [
    "## XGBoost Classifier"
   ]
  },
  {
   "cell_type": "code",
   "execution_count": 31,
   "id": "316fe130",
   "metadata": {},
   "outputs": [],
   "source": [
    "# Creating an instance of the model\n",
    "model = XGBClassifier()"
   ]
  },
  {
   "cell_type": "code",
   "execution_count": 34,
   "id": "25d49107",
   "metadata": {},
   "outputs": [
    {
     "name": "stdout",
     "output_type": "stream",
     "text": [
      "+-------------------------+----------------------------------------------------------+\n",
      "|    Evaluation Metric    |                          Value                           |\n",
      "+-------------------------+----------------------------------------------------------+\n",
      "|      Accuracy Score     | [0.98436737 0.98192477 0.97769093 0.9782591  0.97964335] |\n",
      "|                         |                                                          |\n",
      "|  Average Accuracy Score |                    0.9803771031175857                    |\n",
      "|                         |                                                          |\n",
      "|     Precision Score     | [0.98436737 0.98192477 0.97769093 0.9782591  0.97964335] |\n",
      "|                         |                                                          |\n",
      "| Average Precision Score |                    0.9803771031175857                    |\n",
      "|                         |                                                          |\n",
      "|       Recall Score      | [0.98436737 0.98192477 0.97769093 0.9782591  0.97964335] |\n",
      "|                         |                                                          |\n",
      "|   Average Recall Score  |                    0.9803771031175857                    |\n",
      "|                         |                                                          |\n",
      "|         F1 Score        | [0.98436737 0.98192477 0.97769093 0.9782591  0.97964335] |\n",
      "|                         |                                                          |\n",
      "|     Average F1 Score    |                    0.9803771031175857                    |\n",
      "+-------------------------+----------------------------------------------------------+\n",
      "\n"
     ]
    }
   ],
   "source": [
    "# Performing stratified k-fold cross validation on training data\n",
    "sk_folds = StratifiedKFold(n_splits = 5)\n",
    "\n",
    "table = PrettyTable()\n",
    "table.field_names = [\"Evaluation Metric\", \"Value\"]\n",
    "\n",
    "accuracy = cross_val_score(model, X_train, y_train, cv=sk_folds, scoring = 'accuracy')\n",
    "table.add_row([\"Accuracy Score\", accuracy])\n",
    "table.add_row(['',''])\n",
    "table.add_row([\"Average Accuracy Score\", accuracy.mean()])\n",
    "table.add_row(['',''])\n",
    "\n",
    "precision = cross_val_score(model, X_train, y_train, cv=sk_folds, scoring = 'precision_micro')\n",
    "table.add_row([\"Precision Score\", precision])\n",
    "table.add_row(['',''])\n",
    "table.add_row([\"Average Precision Score\", precision.mean()])\n",
    "table.add_row(['',''])\n",
    "\n",
    "recall = cross_val_score(model, X_train, y_train, cv=sk_folds, scoring = 'recall_micro')\n",
    "table.add_row([\"Recall Score\",  recall])\n",
    "table.add_row(['',''])\n",
    "table.add_row([\"Average Recall Score\",  recall.mean()])\n",
    "table.add_row(['',''])\n",
    "        \n",
    "f1 = cross_val_score(model, X_train, y_train, cv=sk_folds, scoring = 'f1_micro')\n",
    "table.add_row([\"F1 Score\", f1])\n",
    "table.add_row(['',''])\n",
    "table.add_row([\"Average F1 Score\",  f1.mean()])\n",
    "        \n",
    "print(table)\n",
    "print()"
   ]
  },
  {
   "cell_type": "code",
   "execution_count": 35,
   "id": "1d7046cc",
   "metadata": {},
   "outputs": [
    {
     "data": {
      "text/html": [
       "<style>#sk-container-id-1 {color: black;background-color: white;}#sk-container-id-1 pre{padding: 0;}#sk-container-id-1 div.sk-toggleable {background-color: white;}#sk-container-id-1 label.sk-toggleable__label {cursor: pointer;display: block;width: 100%;margin-bottom: 0;padding: 0.3em;box-sizing: border-box;text-align: center;}#sk-container-id-1 label.sk-toggleable__label-arrow:before {content: \"▸\";float: left;margin-right: 0.25em;color: #696969;}#sk-container-id-1 label.sk-toggleable__label-arrow:hover:before {color: black;}#sk-container-id-1 div.sk-estimator:hover label.sk-toggleable__label-arrow:before {color: black;}#sk-container-id-1 div.sk-toggleable__content {max-height: 0;max-width: 0;overflow: hidden;text-align: left;background-color: #f0f8ff;}#sk-container-id-1 div.sk-toggleable__content pre {margin: 0.2em;color: black;border-radius: 0.25em;background-color: #f0f8ff;}#sk-container-id-1 input.sk-toggleable__control:checked~div.sk-toggleable__content {max-height: 200px;max-width: 100%;overflow: auto;}#sk-container-id-1 input.sk-toggleable__control:checked~label.sk-toggleable__label-arrow:before {content: \"▾\";}#sk-container-id-1 div.sk-estimator input.sk-toggleable__control:checked~label.sk-toggleable__label {background-color: #d4ebff;}#sk-container-id-1 div.sk-label input.sk-toggleable__control:checked~label.sk-toggleable__label {background-color: #d4ebff;}#sk-container-id-1 input.sk-hidden--visually {border: 0;clip: rect(1px 1px 1px 1px);clip: rect(1px, 1px, 1px, 1px);height: 1px;margin: -1px;overflow: hidden;padding: 0;position: absolute;width: 1px;}#sk-container-id-1 div.sk-estimator {font-family: monospace;background-color: #f0f8ff;border: 1px dotted black;border-radius: 0.25em;box-sizing: border-box;margin-bottom: 0.5em;}#sk-container-id-1 div.sk-estimator:hover {background-color: #d4ebff;}#sk-container-id-1 div.sk-parallel-item::after {content: \"\";width: 100%;border-bottom: 1px solid gray;flex-grow: 1;}#sk-container-id-1 div.sk-label:hover label.sk-toggleable__label {background-color: #d4ebff;}#sk-container-id-1 div.sk-serial::before {content: \"\";position: absolute;border-left: 1px solid gray;box-sizing: border-box;top: 0;bottom: 0;left: 50%;z-index: 0;}#sk-container-id-1 div.sk-serial {display: flex;flex-direction: column;align-items: center;background-color: white;padding-right: 0.2em;padding-left: 0.2em;position: relative;}#sk-container-id-1 div.sk-item {position: relative;z-index: 1;}#sk-container-id-1 div.sk-parallel {display: flex;align-items: stretch;justify-content: center;background-color: white;position: relative;}#sk-container-id-1 div.sk-item::before, #sk-container-id-1 div.sk-parallel-item::before {content: \"\";position: absolute;border-left: 1px solid gray;box-sizing: border-box;top: 0;bottom: 0;left: 50%;z-index: -1;}#sk-container-id-1 div.sk-parallel-item {display: flex;flex-direction: column;z-index: 1;position: relative;background-color: white;}#sk-container-id-1 div.sk-parallel-item:first-child::after {align-self: flex-end;width: 50%;}#sk-container-id-1 div.sk-parallel-item:last-child::after {align-self: flex-start;width: 50%;}#sk-container-id-1 div.sk-parallel-item:only-child::after {width: 0;}#sk-container-id-1 div.sk-dashed-wrapped {border: 1px dashed gray;margin: 0 0.4em 0.5em 0.4em;box-sizing: border-box;padding-bottom: 0.4em;background-color: white;}#sk-container-id-1 div.sk-label label {font-family: monospace;font-weight: bold;display: inline-block;line-height: 1.2em;}#sk-container-id-1 div.sk-label-container {text-align: center;}#sk-container-id-1 div.sk-container {/* jupyter's `normalize.less` sets `[hidden] { display: none; }` but bootstrap.min.css set `[hidden] { display: none !important; }` so we also need the `!important` here to be able to override the default hidden behavior on the sphinx rendered scikit-learn.org. See: https://github.com/scikit-learn/scikit-learn/issues/21755 */display: inline-block !important;position: relative;}#sk-container-id-1 div.sk-text-repr-fallback {display: none;}</style><div id=\"sk-container-id-1\" class=\"sk-top-container\"><div class=\"sk-text-repr-fallback\"><pre>XGBClassifier(base_score=None, booster=None, callbacks=None,\n",
       "              colsample_bylevel=None, colsample_bynode=None,\n",
       "              colsample_bytree=None, early_stopping_rounds=None,\n",
       "              enable_categorical=False, eval_metric=None, feature_types=None,\n",
       "              gamma=None, gpu_id=None, grow_policy=None, importance_type=None,\n",
       "              interaction_constraints=None, learning_rate=None, max_bin=None,\n",
       "              max_cat_threshold=None, max_cat_to_onehot=None,\n",
       "              max_delta_step=None, max_depth=None, max_leaves=None,\n",
       "              min_child_weight=None, missing=nan, monotone_constraints=None,\n",
       "              n_estimators=100, n_jobs=None, num_parallel_tree=None,\n",
       "              objective=&#x27;multi:softprob&#x27;, predictor=None, ...)</pre><b>In a Jupyter environment, please rerun this cell to show the HTML representation or trust the notebook. <br />On GitHub, the HTML representation is unable to render, please try loading this page with nbviewer.org.</b></div><div class=\"sk-container\" hidden><div class=\"sk-item\"><div class=\"sk-estimator sk-toggleable\"><input class=\"sk-toggleable__control sk-hidden--visually\" id=\"sk-estimator-id-1\" type=\"checkbox\" checked><label for=\"sk-estimator-id-1\" class=\"sk-toggleable__label sk-toggleable__label-arrow\">XGBClassifier</label><div class=\"sk-toggleable__content\"><pre>XGBClassifier(base_score=None, booster=None, callbacks=None,\n",
       "              colsample_bylevel=None, colsample_bynode=None,\n",
       "              colsample_bytree=None, early_stopping_rounds=None,\n",
       "              enable_categorical=False, eval_metric=None, feature_types=None,\n",
       "              gamma=None, gpu_id=None, grow_policy=None, importance_type=None,\n",
       "              interaction_constraints=None, learning_rate=None, max_bin=None,\n",
       "              max_cat_threshold=None, max_cat_to_onehot=None,\n",
       "              max_delta_step=None, max_depth=None, max_leaves=None,\n",
       "              min_child_weight=None, missing=nan, monotone_constraints=None,\n",
       "              n_estimators=100, n_jobs=None, num_parallel_tree=None,\n",
       "              objective=&#x27;multi:softprob&#x27;, predictor=None, ...)</pre></div></div></div></div></div>"
      ],
      "text/plain": [
       "XGBClassifier(base_score=None, booster=None, callbacks=None,\n",
       "              colsample_bylevel=None, colsample_bynode=None,\n",
       "              colsample_bytree=None, early_stopping_rounds=None,\n",
       "              enable_categorical=False, eval_metric=None, feature_types=None,\n",
       "              gamma=None, gpu_id=None, grow_policy=None, importance_type=None,\n",
       "              interaction_constraints=None, learning_rate=None, max_bin=None,\n",
       "              max_cat_threshold=None, max_cat_to_onehot=None,\n",
       "              max_delta_step=None, max_depth=None, max_leaves=None,\n",
       "              min_child_weight=None, missing=nan, monotone_constraints=None,\n",
       "              n_estimators=100, n_jobs=None, num_parallel_tree=None,\n",
       "              objective='multi:softprob', predictor=None, ...)"
      ]
     },
     "execution_count": 35,
     "metadata": {},
     "output_type": "execute_result"
    }
   ],
   "source": [
    "# Fitting model on training data\n",
    "model.fit(X_train,y_train)"
   ]
  },
  {
   "cell_type": "code",
   "execution_count": 36,
   "id": "68677ac2",
   "metadata": {},
   "outputs": [],
   "source": [
    "# Predicting class label for test data\n",
    "y_pred = model.predict(X_test)"
   ]
  },
  {
   "cell_type": "code",
   "execution_count": 37,
   "id": "76ad48c1",
   "metadata": {
    "scrolled": true
   },
   "outputs": [
    {
     "name": "stdout",
     "output_type": "stream",
     "text": [
      "+-------------------+--------------------+\n",
      "| Evaluation Metric |       Value        |\n",
      "+-------------------+--------------------+\n",
      "|      Accuracy     | 0.9850182386659718 |\n",
      "|     Precision     | 0.9850182386659718 |\n",
      "|       Recall      | 0.9850182386659718 |\n",
      "|      F1 Score     | 0.9850182386659718 |\n",
      "+-------------------+--------------------+\n"
     ]
    }
   ],
   "source": [
    "# Evaluating Model\n",
    "table = PrettyTable()\n",
    "table.field_names = [\"Evaluation Metric\", \"Value\"]\n",
    "\n",
    "conf_mat['XGBoost'] = confusion_matrix(y_test,y_pred)\n",
    "acc['XGBoost'] = accuracy_score(y_test,y_pred)\n",
    "\n",
    "# fraction of correctly predicted instances\n",
    "# 1 indicates perfect prediction accuracy and 0 indicates complete failure\n",
    "table.add_row([\"Accuracy\", accuracy_score(y_test,y_pred)])\n",
    "\n",
    "# ability of the classifier not to label as positive a sample that is negative\n",
    "# best value is 1 and the worst value is 0\n",
    "table.add_row([\"Precision\", precision_score(y_test, y_pred, average='micro')])\n",
    "\n",
    "# ability of the classifier to find all the positive samples\n",
    "# best value is 1 and the worst value is 0\n",
    "table.add_row([\"Recall\", recall_score(y_test, y_pred, average='micro')])\n",
    "\n",
    "# harmonic mean of the precision and recall\n",
    "# best value is 1 and the worst value is 0\n",
    "table.add_row([\"F1 Score\", f1_score(y_test, y_pred, average='micro')])\n",
    "\n",
    "print(table)"
   ]
  },
  {
   "cell_type": "markdown",
   "id": "06e3b47f",
   "metadata": {},
   "source": [
    "## Decision Tree Classifier"
   ]
  },
  {
   "cell_type": "code",
   "execution_count": 38,
   "id": "bbcf6394",
   "metadata": {},
   "outputs": [],
   "source": [
    "# Creating an instance of the model\n",
    "model = DecisionTreeClassifier()"
   ]
  },
  {
   "cell_type": "code",
   "execution_count": 39,
   "id": "43236318",
   "metadata": {},
   "outputs": [
    {
     "name": "stdout",
     "output_type": "stream",
     "text": [
      "+-------------------------+----------------------------------------------------------+\n",
      "|    Evaluation Metric    |                          Value                           |\n",
      "+-------------------------+----------------------------------------------------------+\n",
      "|      Accuracy Score     | [0.96914183 0.96466374 0.96303534 0.96376517 0.96466086] |\n",
      "|                         |                                                          |\n",
      "|  Average Accuracy Score |                    0.9650533858658841                    |\n",
      "|                         |                                                          |\n",
      "|     Precision Score     | [0.96832763 0.96588504 0.96254682 0.96343946 0.96376517] |\n",
      "|                         |                                                          |\n",
      "| Average Precision Score |                    0.9647928220912723                    |\n",
      "|                         |                                                          |\n",
      "|       Recall Score      | [0.96588504 0.9657222  0.96417522 0.96400945 0.96368374] |\n",
      "|                         |                                                          |\n",
      "|   Average Recall Score  |                    0.9646951260899623                    |\n",
      "|                         |                                                          |\n",
      "|         F1 Score        | [0.96743201 0.96694349 0.9632796  0.96523084 0.96531227] |\n",
      "|                         |                                                          |\n",
      "|     Average F1 Score    |                    0.9656396440826475                    |\n",
      "+-------------------------+----------------------------------------------------------+\n",
      "\n"
     ]
    }
   ],
   "source": [
    "# Performing stratified k-fold cross validation on training data\n",
    "sk_folds = StratifiedKFold(n_splits = 5)\n",
    "\n",
    "table = PrettyTable()\n",
    "table.field_names = [\"Evaluation Metric\", \"Value\"]\n",
    "\n",
    "accuracy = cross_val_score(model, X_train, y_train, cv=sk_folds, scoring = 'accuracy')\n",
    "table.add_row([\"Accuracy Score\", accuracy])\n",
    "table.add_row(['',''])\n",
    "table.add_row([\"Average Accuracy Score\", accuracy.mean()])\n",
    "table.add_row(['',''])\n",
    "\n",
    "precision = cross_val_score(model, X_train, y_train, cv=sk_folds, scoring = 'precision_micro')\n",
    "table.add_row([\"Precision Score\", precision])\n",
    "table.add_row(['',''])\n",
    "table.add_row([\"Average Precision Score\", precision.mean()])\n",
    "table.add_row(['',''])\n",
    "\n",
    "recall = cross_val_score(model, X_train, y_train, cv=sk_folds, scoring = 'recall_micro')\n",
    "table.add_row([\"Recall Score\",  recall])\n",
    "table.add_row(['',''])\n",
    "table.add_row([\"Average Recall Score\",  recall.mean()])\n",
    "table.add_row(['',''])\n",
    "        \n",
    "f1 = cross_val_score(model, X_train, y_train, cv=sk_folds, scoring = 'f1_micro')\n",
    "table.add_row([\"F1 Score\", f1])\n",
    "table.add_row(['',''])\n",
    "table.add_row([\"Average F1 Score\",  f1.mean()])\n",
    "        \n",
    "print(table)\n",
    "print()"
   ]
  },
  {
   "cell_type": "code",
   "execution_count": 40,
   "id": "63dca6d4",
   "metadata": {},
   "outputs": [
    {
     "data": {
      "text/html": [
       "<style>#sk-container-id-2 {color: black;background-color: white;}#sk-container-id-2 pre{padding: 0;}#sk-container-id-2 div.sk-toggleable {background-color: white;}#sk-container-id-2 label.sk-toggleable__label {cursor: pointer;display: block;width: 100%;margin-bottom: 0;padding: 0.3em;box-sizing: border-box;text-align: center;}#sk-container-id-2 label.sk-toggleable__label-arrow:before {content: \"▸\";float: left;margin-right: 0.25em;color: #696969;}#sk-container-id-2 label.sk-toggleable__label-arrow:hover:before {color: black;}#sk-container-id-2 div.sk-estimator:hover label.sk-toggleable__label-arrow:before {color: black;}#sk-container-id-2 div.sk-toggleable__content {max-height: 0;max-width: 0;overflow: hidden;text-align: left;background-color: #f0f8ff;}#sk-container-id-2 div.sk-toggleable__content pre {margin: 0.2em;color: black;border-radius: 0.25em;background-color: #f0f8ff;}#sk-container-id-2 input.sk-toggleable__control:checked~div.sk-toggleable__content {max-height: 200px;max-width: 100%;overflow: auto;}#sk-container-id-2 input.sk-toggleable__control:checked~label.sk-toggleable__label-arrow:before {content: \"▾\";}#sk-container-id-2 div.sk-estimator input.sk-toggleable__control:checked~label.sk-toggleable__label {background-color: #d4ebff;}#sk-container-id-2 div.sk-label input.sk-toggleable__control:checked~label.sk-toggleable__label {background-color: #d4ebff;}#sk-container-id-2 input.sk-hidden--visually {border: 0;clip: rect(1px 1px 1px 1px);clip: rect(1px, 1px, 1px, 1px);height: 1px;margin: -1px;overflow: hidden;padding: 0;position: absolute;width: 1px;}#sk-container-id-2 div.sk-estimator {font-family: monospace;background-color: #f0f8ff;border: 1px dotted black;border-radius: 0.25em;box-sizing: border-box;margin-bottom: 0.5em;}#sk-container-id-2 div.sk-estimator:hover {background-color: #d4ebff;}#sk-container-id-2 div.sk-parallel-item::after {content: \"\";width: 100%;border-bottom: 1px solid gray;flex-grow: 1;}#sk-container-id-2 div.sk-label:hover label.sk-toggleable__label {background-color: #d4ebff;}#sk-container-id-2 div.sk-serial::before {content: \"\";position: absolute;border-left: 1px solid gray;box-sizing: border-box;top: 0;bottom: 0;left: 50%;z-index: 0;}#sk-container-id-2 div.sk-serial {display: flex;flex-direction: column;align-items: center;background-color: white;padding-right: 0.2em;padding-left: 0.2em;position: relative;}#sk-container-id-2 div.sk-item {position: relative;z-index: 1;}#sk-container-id-2 div.sk-parallel {display: flex;align-items: stretch;justify-content: center;background-color: white;position: relative;}#sk-container-id-2 div.sk-item::before, #sk-container-id-2 div.sk-parallel-item::before {content: \"\";position: absolute;border-left: 1px solid gray;box-sizing: border-box;top: 0;bottom: 0;left: 50%;z-index: -1;}#sk-container-id-2 div.sk-parallel-item {display: flex;flex-direction: column;z-index: 1;position: relative;background-color: white;}#sk-container-id-2 div.sk-parallel-item:first-child::after {align-self: flex-end;width: 50%;}#sk-container-id-2 div.sk-parallel-item:last-child::after {align-self: flex-start;width: 50%;}#sk-container-id-2 div.sk-parallel-item:only-child::after {width: 0;}#sk-container-id-2 div.sk-dashed-wrapped {border: 1px dashed gray;margin: 0 0.4em 0.5em 0.4em;box-sizing: border-box;padding-bottom: 0.4em;background-color: white;}#sk-container-id-2 div.sk-label label {font-family: monospace;font-weight: bold;display: inline-block;line-height: 1.2em;}#sk-container-id-2 div.sk-label-container {text-align: center;}#sk-container-id-2 div.sk-container {/* jupyter's `normalize.less` sets `[hidden] { display: none; }` but bootstrap.min.css set `[hidden] { display: none !important; }` so we also need the `!important` here to be able to override the default hidden behavior on the sphinx rendered scikit-learn.org. See: https://github.com/scikit-learn/scikit-learn/issues/21755 */display: inline-block !important;position: relative;}#sk-container-id-2 div.sk-text-repr-fallback {display: none;}</style><div id=\"sk-container-id-2\" class=\"sk-top-container\"><div class=\"sk-text-repr-fallback\"><pre>DecisionTreeClassifier()</pre><b>In a Jupyter environment, please rerun this cell to show the HTML representation or trust the notebook. <br />On GitHub, the HTML representation is unable to render, please try loading this page with nbviewer.org.</b></div><div class=\"sk-container\" hidden><div class=\"sk-item\"><div class=\"sk-estimator sk-toggleable\"><input class=\"sk-toggleable__control sk-hidden--visually\" id=\"sk-estimator-id-2\" type=\"checkbox\" checked><label for=\"sk-estimator-id-2\" class=\"sk-toggleable__label sk-toggleable__label-arrow\">DecisionTreeClassifier</label><div class=\"sk-toggleable__content\"><pre>DecisionTreeClassifier()</pre></div></div></div></div></div>"
      ],
      "text/plain": [
       "DecisionTreeClassifier()"
      ]
     },
     "execution_count": 40,
     "metadata": {},
     "output_type": "execute_result"
    }
   ],
   "source": [
    "# Fitting model on training data\n",
    "model.fit(X_train,y_train)"
   ]
  },
  {
   "cell_type": "code",
   "execution_count": 41,
   "id": "63205fb5",
   "metadata": {},
   "outputs": [],
   "source": [
    "# Predicting class label for test data\n",
    "y_pred = model.predict(X_test)"
   ]
  },
  {
   "cell_type": "code",
   "execution_count": 42,
   "id": "280fbbad",
   "metadata": {
    "scrolled": true
   },
   "outputs": [
    {
     "name": "stdout",
     "output_type": "stream",
     "text": [
      "+-------------------+--------------------+\n",
      "| Evaluation Metric |       Value        |\n",
      "+-------------------+--------------------+\n",
      "|      Accuracy     | 0.9730328295987494 |\n",
      "|     Precision     | 0.9730328295987494 |\n",
      "|       Recall      | 0.9730328295987494 |\n",
      "|      F1 Score     | 0.9730328295987494 |\n",
      "+-------------------+--------------------+\n"
     ]
    }
   ],
   "source": [
    "# Evaluating Model\n",
    "table = PrettyTable()\n",
    "table.field_names = [\"Evaluation Metric\", \"Value\"]\n",
    "\n",
    "conf_mat['Decision Tree'] = confusion_matrix(y_test,y_pred)\n",
    "acc['Decision Tree'] = accuracy_score(y_test,y_pred)\n",
    "\n",
    "# fraction of correctly predicted instances\n",
    "# 1 indicates perfect prediction accuracy and 0 indicates complete failure\n",
    "table.add_row([\"Accuracy\", accuracy_score(y_test,y_pred)])\n",
    "\n",
    "# ability of the classifier not to label as positive a sample that is negative\n",
    "# best value is 1 and the worst value is 0\n",
    "table.add_row([\"Precision\", precision_score(y_test, y_pred, average='micro')])\n",
    "\n",
    "# ability of the classifier to find all the positive samples\n",
    "# best value is 1 and the worst value is 0\n",
    "table.add_row([\"Recall\", recall_score(y_test, y_pred, average='micro')])\n",
    "\n",
    "# harmonic mean of the precision and recall\n",
    "# best value is 1 and the worst value is 0\n",
    "table.add_row([\"F1 Score\", f1_score(y_test, y_pred, average='micro')])\n",
    "\n",
    "print(table)"
   ]
  },
  {
   "cell_type": "markdown",
   "id": "56b84129",
   "metadata": {},
   "source": [
    "## HistGradientBoostingClassifier"
   ]
  },
  {
   "cell_type": "code",
   "execution_count": 43,
   "id": "250a8003",
   "metadata": {},
   "outputs": [],
   "source": [
    "# Creating an instance of the model\n",
    "model = HistGradientBoostingClassifier()"
   ]
  },
  {
   "cell_type": "code",
   "execution_count": 44,
   "id": "5c16fa02",
   "metadata": {},
   "outputs": [
    {
     "name": "stdout",
     "output_type": "stream",
     "text": [
      "+-------------------------+----------------------------------------------------------+\n",
      "|    Evaluation Metric    |                          Value                           |\n",
      "+-------------------------+----------------------------------------------------------+\n",
      "|      Accuracy Score     | [0.97850513 0.97703957 0.97345709 0.97247781 0.97239638] |\n",
      "|                         |                                                          |\n",
      "|  Average Accuracy Score |                    0.9747751974303194                    |\n",
      "|                         |                                                          |\n",
      "|     Precision Score     | [0.97842371 0.97744667 0.97329425 0.9730478  0.97410634] |\n",
      "|                         |                                                          |\n",
      "| Average Precision Score |                    0.9752637543419725                    |\n",
      "|                         |                                                          |\n",
      "|       Recall Score      | [0.97899365 0.97809803 0.97182869 0.97329208 0.97646771] |\n",
      "|                         |                                                          |\n",
      "|   Average Recall Score  |                    0.9757360325645912                    |\n",
      "|                         |                                                          |\n",
      "|         F1 Score        | [0.97997069 0.97630679 0.97264289 0.97190783 0.97589773] |\n",
      "|                         |                                                          |\n",
      "|     Average F1 Score    |                    0.9753451849137486                    |\n",
      "+-------------------------+----------------------------------------------------------+\n",
      "\n"
     ]
    }
   ],
   "source": [
    "# Performing stratified k-fold cross validation on training data\n",
    "sk_folds = StratifiedKFold(n_splits = 5)\n",
    "\n",
    "table = PrettyTable()\n",
    "table.field_names = [\"Evaluation Metric\", \"Value\"]\n",
    "\n",
    "accuracy = cross_val_score(model, X_train, y_train, cv=sk_folds, scoring = 'accuracy')\n",
    "table.add_row([\"Accuracy Score\", accuracy])\n",
    "table.add_row(['',''])\n",
    "table.add_row([\"Average Accuracy Score\", accuracy.mean()])\n",
    "table.add_row(['',''])\n",
    "\n",
    "precision = cross_val_score(model, X_train, y_train, cv=sk_folds, scoring = 'precision_micro')\n",
    "table.add_row([\"Precision Score\", precision])\n",
    "table.add_row(['',''])\n",
    "table.add_row([\"Average Precision Score\", precision.mean()])\n",
    "table.add_row(['',''])\n",
    "\n",
    "recall = cross_val_score(model, X_train, y_train, cv=sk_folds, scoring = 'recall_micro')\n",
    "table.add_row([\"Recall Score\",  recall])\n",
    "table.add_row(['',''])\n",
    "table.add_row([\"Average Recall Score\",  recall.mean()])\n",
    "table.add_row(['',''])\n",
    "        \n",
    "f1 = cross_val_score(model, X_train, y_train, cv=sk_folds, scoring = 'f1_micro')\n",
    "table.add_row([\"F1 Score\", f1])\n",
    "table.add_row(['',''])\n",
    "table.add_row([\"Average F1 Score\",  f1.mean()])\n",
    "        \n",
    "print(table)\n",
    "print()"
   ]
  },
  {
   "cell_type": "code",
   "execution_count": 45,
   "id": "24be7174",
   "metadata": {},
   "outputs": [
    {
     "data": {
      "text/html": [
       "<style>#sk-container-id-3 {color: black;background-color: white;}#sk-container-id-3 pre{padding: 0;}#sk-container-id-3 div.sk-toggleable {background-color: white;}#sk-container-id-3 label.sk-toggleable__label {cursor: pointer;display: block;width: 100%;margin-bottom: 0;padding: 0.3em;box-sizing: border-box;text-align: center;}#sk-container-id-3 label.sk-toggleable__label-arrow:before {content: \"▸\";float: left;margin-right: 0.25em;color: #696969;}#sk-container-id-3 label.sk-toggleable__label-arrow:hover:before {color: black;}#sk-container-id-3 div.sk-estimator:hover label.sk-toggleable__label-arrow:before {color: black;}#sk-container-id-3 div.sk-toggleable__content {max-height: 0;max-width: 0;overflow: hidden;text-align: left;background-color: #f0f8ff;}#sk-container-id-3 div.sk-toggleable__content pre {margin: 0.2em;color: black;border-radius: 0.25em;background-color: #f0f8ff;}#sk-container-id-3 input.sk-toggleable__control:checked~div.sk-toggleable__content {max-height: 200px;max-width: 100%;overflow: auto;}#sk-container-id-3 input.sk-toggleable__control:checked~label.sk-toggleable__label-arrow:before {content: \"▾\";}#sk-container-id-3 div.sk-estimator input.sk-toggleable__control:checked~label.sk-toggleable__label {background-color: #d4ebff;}#sk-container-id-3 div.sk-label input.sk-toggleable__control:checked~label.sk-toggleable__label {background-color: #d4ebff;}#sk-container-id-3 input.sk-hidden--visually {border: 0;clip: rect(1px 1px 1px 1px);clip: rect(1px, 1px, 1px, 1px);height: 1px;margin: -1px;overflow: hidden;padding: 0;position: absolute;width: 1px;}#sk-container-id-3 div.sk-estimator {font-family: monospace;background-color: #f0f8ff;border: 1px dotted black;border-radius: 0.25em;box-sizing: border-box;margin-bottom: 0.5em;}#sk-container-id-3 div.sk-estimator:hover {background-color: #d4ebff;}#sk-container-id-3 div.sk-parallel-item::after {content: \"\";width: 100%;border-bottom: 1px solid gray;flex-grow: 1;}#sk-container-id-3 div.sk-label:hover label.sk-toggleable__label {background-color: #d4ebff;}#sk-container-id-3 div.sk-serial::before {content: \"\";position: absolute;border-left: 1px solid gray;box-sizing: border-box;top: 0;bottom: 0;left: 50%;z-index: 0;}#sk-container-id-3 div.sk-serial {display: flex;flex-direction: column;align-items: center;background-color: white;padding-right: 0.2em;padding-left: 0.2em;position: relative;}#sk-container-id-3 div.sk-item {position: relative;z-index: 1;}#sk-container-id-3 div.sk-parallel {display: flex;align-items: stretch;justify-content: center;background-color: white;position: relative;}#sk-container-id-3 div.sk-item::before, #sk-container-id-3 div.sk-parallel-item::before {content: \"\";position: absolute;border-left: 1px solid gray;box-sizing: border-box;top: 0;bottom: 0;left: 50%;z-index: -1;}#sk-container-id-3 div.sk-parallel-item {display: flex;flex-direction: column;z-index: 1;position: relative;background-color: white;}#sk-container-id-3 div.sk-parallel-item:first-child::after {align-self: flex-end;width: 50%;}#sk-container-id-3 div.sk-parallel-item:last-child::after {align-self: flex-start;width: 50%;}#sk-container-id-3 div.sk-parallel-item:only-child::after {width: 0;}#sk-container-id-3 div.sk-dashed-wrapped {border: 1px dashed gray;margin: 0 0.4em 0.5em 0.4em;box-sizing: border-box;padding-bottom: 0.4em;background-color: white;}#sk-container-id-3 div.sk-label label {font-family: monospace;font-weight: bold;display: inline-block;line-height: 1.2em;}#sk-container-id-3 div.sk-label-container {text-align: center;}#sk-container-id-3 div.sk-container {/* jupyter's `normalize.less` sets `[hidden] { display: none; }` but bootstrap.min.css set `[hidden] { display: none !important; }` so we also need the `!important` here to be able to override the default hidden behavior on the sphinx rendered scikit-learn.org. See: https://github.com/scikit-learn/scikit-learn/issues/21755 */display: inline-block !important;position: relative;}#sk-container-id-3 div.sk-text-repr-fallback {display: none;}</style><div id=\"sk-container-id-3\" class=\"sk-top-container\"><div class=\"sk-text-repr-fallback\"><pre>HistGradientBoostingClassifier()</pre><b>In a Jupyter environment, please rerun this cell to show the HTML representation or trust the notebook. <br />On GitHub, the HTML representation is unable to render, please try loading this page with nbviewer.org.</b></div><div class=\"sk-container\" hidden><div class=\"sk-item\"><div class=\"sk-estimator sk-toggleable\"><input class=\"sk-toggleable__control sk-hidden--visually\" id=\"sk-estimator-id-3\" type=\"checkbox\" checked><label for=\"sk-estimator-id-3\" class=\"sk-toggleable__label sk-toggleable__label-arrow\">HistGradientBoostingClassifier</label><div class=\"sk-toggleable__content\"><pre>HistGradientBoostingClassifier()</pre></div></div></div></div></div>"
      ],
      "text/plain": [
       "HistGradientBoostingClassifier()"
      ]
     },
     "execution_count": 45,
     "metadata": {},
     "output_type": "execute_result"
    }
   ],
   "source": [
    "# Fitting model on training data\n",
    "model.fit(X_train,y_train)"
   ]
  },
  {
   "cell_type": "code",
   "execution_count": 46,
   "id": "a9b376c0",
   "metadata": {},
   "outputs": [],
   "source": [
    "# Predicting class label for test data\n",
    "y_pred = model.predict(X_test)"
   ]
  },
  {
   "cell_type": "code",
   "execution_count": 47,
   "id": "ed942d64",
   "metadata": {
    "scrolled": true
   },
   "outputs": [
    {
     "name": "stdout",
     "output_type": "stream",
     "text": [
      "+-------------------+--------------------+\n",
      "| Evaluation Metric |       Value        |\n",
      "+-------------------+--------------------+\n",
      "|      Accuracy     | 0.9791558103178739 |\n",
      "|     Precision     | 0.9791558103178739 |\n",
      "|       Recall      | 0.9791558103178739 |\n",
      "|      F1 Score     | 0.9791558103178739 |\n",
      "+-------------------+--------------------+\n"
     ]
    }
   ],
   "source": [
    "# Evaluating Model\n",
    "table = PrettyTable()\n",
    "table.field_names = [\"Evaluation Metric\", \"Value\"]\n",
    "\n",
    "conf_mat['Histogram-Based Gradient Boosting Tree'] = confusion_matrix(y_test,y_pred)\n",
    "acc['Histogram-Based Gradient Boosting Tree'] = accuracy_score(y_test,y_pred)\n",
    "\n",
    "# fraction of correctly predicted instances\n",
    "# 1 indicates perfect prediction accuracy and 0 indicates complete failure\n",
    "table.add_row([\"Accuracy\", accuracy_score(y_test,y_pred)])\n",
    "\n",
    "# ability of the classifier not to label as positive a sample that is negative\n",
    "# best value is 1 and the worst value is 0\n",
    "table.add_row([\"Precision\", precision_score(y_test, y_pred, average='micro')])\n",
    "\n",
    "# ability of the classifier to find all the positive samples\n",
    "# best value is 1 and the worst value is 0\n",
    "table.add_row([\"Recall\", recall_score(y_test, y_pred, average='micro')])\n",
    "\n",
    "# harmonic mean of the precision and recall\n",
    "# best value is 1 and the worst value is 0\n",
    "table.add_row([\"F1 Score\", f1_score(y_test, y_pred, average='micro')])\n",
    "\n",
    "print(table)"
   ]
  },
  {
   "cell_type": "markdown",
   "id": "8971b7ea",
   "metadata": {},
   "source": [
    "## AdaBoostClassifier"
   ]
  },
  {
   "cell_type": "code",
   "execution_count": 48,
   "id": "7147d0fb",
   "metadata": {},
   "outputs": [],
   "source": [
    "# Creating an instance of the model\n",
    "model = AdaBoostClassifier()"
   ]
  },
  {
   "cell_type": "code",
   "execution_count": 49,
   "id": "f1ef4ff4",
   "metadata": {},
   "outputs": [
    {
     "name": "stdout",
     "output_type": "stream",
     "text": [
      "+-------------------------+----------------------------------------------------------+\n",
      "|    Evaluation Metric    |                          Value                           |\n",
      "+-------------------------+----------------------------------------------------------+\n",
      "|      Accuracy Score     | [0.84245237 0.81436248 0.78448135 0.81532448 0.75156746] |\n",
      "|                         |                                                          |\n",
      "|  Average Accuracy Score |                    0.801637630547906                     |\n",
      "|                         |                                                          |\n",
      "|     Precision Score     | [0.84245237 0.81436248 0.78448135 0.81532448 0.75156746] |\n",
      "|                         |                                                          |\n",
      "| Average Precision Score |                    0.801637630547906                     |\n",
      "|                         |                                                          |\n",
      "|       Recall Score      | [0.84245237 0.81436248 0.78448135 0.81532448 0.75156746] |\n",
      "|                         |                                                          |\n",
      "|   Average Recall Score  |                    0.801637630547906                     |\n",
      "|                         |                                                          |\n",
      "|         F1 Score        | [0.84245237 0.81436248 0.78448135 0.81532448 0.75156746] |\n",
      "|                         |                                                          |\n",
      "|     Average F1 Score    |                    0.801637630547906                     |\n",
      "+-------------------------+----------------------------------------------------------+\n",
      "\n"
     ]
    }
   ],
   "source": [
    "# Performing stratified k-fold cross validation on training data\n",
    "sk_folds = StratifiedKFold(n_splits = 5)\n",
    "\n",
    "table = PrettyTable()\n",
    "table.field_names = [\"Evaluation Metric\", \"Value\"]\n",
    "\n",
    "accuracy = cross_val_score(model, X_train, y_train, cv=sk_folds, scoring = 'accuracy')\n",
    "table.add_row([\"Accuracy Score\", accuracy])\n",
    "table.add_row(['',''])\n",
    "table.add_row([\"Average Accuracy Score\", accuracy.mean()])\n",
    "table.add_row(['',''])\n",
    "\n",
    "precision = cross_val_score(model, X_train, y_train, cv=sk_folds, scoring = 'precision_micro')\n",
    "table.add_row([\"Precision Score\", precision])\n",
    "table.add_row(['',''])\n",
    "table.add_row([\"Average Precision Score\", precision.mean()])\n",
    "table.add_row(['',''])\n",
    "\n",
    "recall = cross_val_score(model, X_train, y_train, cv=sk_folds, scoring = 'recall_micro')\n",
    "table.add_row([\"Recall Score\",  recall])\n",
    "table.add_row(['',''])\n",
    "table.add_row([\"Average Recall Score\",  recall.mean()])\n",
    "table.add_row(['',''])\n",
    "        \n",
    "f1 = cross_val_score(model, X_train, y_train, cv=sk_folds, scoring = 'f1_micro')\n",
    "table.add_row([\"F1 Score\", f1])\n",
    "table.add_row(['',''])\n",
    "table.add_row([\"Average F1 Score\",  f1.mean()])\n",
    "        \n",
    "print(table)\n",
    "print()"
   ]
  },
  {
   "cell_type": "code",
   "execution_count": 50,
   "id": "085d73c8",
   "metadata": {},
   "outputs": [
    {
     "data": {
      "text/html": [
       "<style>#sk-container-id-4 {color: black;background-color: white;}#sk-container-id-4 pre{padding: 0;}#sk-container-id-4 div.sk-toggleable {background-color: white;}#sk-container-id-4 label.sk-toggleable__label {cursor: pointer;display: block;width: 100%;margin-bottom: 0;padding: 0.3em;box-sizing: border-box;text-align: center;}#sk-container-id-4 label.sk-toggleable__label-arrow:before {content: \"▸\";float: left;margin-right: 0.25em;color: #696969;}#sk-container-id-4 label.sk-toggleable__label-arrow:hover:before {color: black;}#sk-container-id-4 div.sk-estimator:hover label.sk-toggleable__label-arrow:before {color: black;}#sk-container-id-4 div.sk-toggleable__content {max-height: 0;max-width: 0;overflow: hidden;text-align: left;background-color: #f0f8ff;}#sk-container-id-4 div.sk-toggleable__content pre {margin: 0.2em;color: black;border-radius: 0.25em;background-color: #f0f8ff;}#sk-container-id-4 input.sk-toggleable__control:checked~div.sk-toggleable__content {max-height: 200px;max-width: 100%;overflow: auto;}#sk-container-id-4 input.sk-toggleable__control:checked~label.sk-toggleable__label-arrow:before {content: \"▾\";}#sk-container-id-4 div.sk-estimator input.sk-toggleable__control:checked~label.sk-toggleable__label {background-color: #d4ebff;}#sk-container-id-4 div.sk-label input.sk-toggleable__control:checked~label.sk-toggleable__label {background-color: #d4ebff;}#sk-container-id-4 input.sk-hidden--visually {border: 0;clip: rect(1px 1px 1px 1px);clip: rect(1px, 1px, 1px, 1px);height: 1px;margin: -1px;overflow: hidden;padding: 0;position: absolute;width: 1px;}#sk-container-id-4 div.sk-estimator {font-family: monospace;background-color: #f0f8ff;border: 1px dotted black;border-radius: 0.25em;box-sizing: border-box;margin-bottom: 0.5em;}#sk-container-id-4 div.sk-estimator:hover {background-color: #d4ebff;}#sk-container-id-4 div.sk-parallel-item::after {content: \"\";width: 100%;border-bottom: 1px solid gray;flex-grow: 1;}#sk-container-id-4 div.sk-label:hover label.sk-toggleable__label {background-color: #d4ebff;}#sk-container-id-4 div.sk-serial::before {content: \"\";position: absolute;border-left: 1px solid gray;box-sizing: border-box;top: 0;bottom: 0;left: 50%;z-index: 0;}#sk-container-id-4 div.sk-serial {display: flex;flex-direction: column;align-items: center;background-color: white;padding-right: 0.2em;padding-left: 0.2em;position: relative;}#sk-container-id-4 div.sk-item {position: relative;z-index: 1;}#sk-container-id-4 div.sk-parallel {display: flex;align-items: stretch;justify-content: center;background-color: white;position: relative;}#sk-container-id-4 div.sk-item::before, #sk-container-id-4 div.sk-parallel-item::before {content: \"\";position: absolute;border-left: 1px solid gray;box-sizing: border-box;top: 0;bottom: 0;left: 50%;z-index: -1;}#sk-container-id-4 div.sk-parallel-item {display: flex;flex-direction: column;z-index: 1;position: relative;background-color: white;}#sk-container-id-4 div.sk-parallel-item:first-child::after {align-self: flex-end;width: 50%;}#sk-container-id-4 div.sk-parallel-item:last-child::after {align-self: flex-start;width: 50%;}#sk-container-id-4 div.sk-parallel-item:only-child::after {width: 0;}#sk-container-id-4 div.sk-dashed-wrapped {border: 1px dashed gray;margin: 0 0.4em 0.5em 0.4em;box-sizing: border-box;padding-bottom: 0.4em;background-color: white;}#sk-container-id-4 div.sk-label label {font-family: monospace;font-weight: bold;display: inline-block;line-height: 1.2em;}#sk-container-id-4 div.sk-label-container {text-align: center;}#sk-container-id-4 div.sk-container {/* jupyter's `normalize.less` sets `[hidden] { display: none; }` but bootstrap.min.css set `[hidden] { display: none !important; }` so we also need the `!important` here to be able to override the default hidden behavior on the sphinx rendered scikit-learn.org. See: https://github.com/scikit-learn/scikit-learn/issues/21755 */display: inline-block !important;position: relative;}#sk-container-id-4 div.sk-text-repr-fallback {display: none;}</style><div id=\"sk-container-id-4\" class=\"sk-top-container\"><div class=\"sk-text-repr-fallback\"><pre>AdaBoostClassifier()</pre><b>In a Jupyter environment, please rerun this cell to show the HTML representation or trust the notebook. <br />On GitHub, the HTML representation is unable to render, please try loading this page with nbviewer.org.</b></div><div class=\"sk-container\" hidden><div class=\"sk-item\"><div class=\"sk-estimator sk-toggleable\"><input class=\"sk-toggleable__control sk-hidden--visually\" id=\"sk-estimator-id-4\" type=\"checkbox\" checked><label for=\"sk-estimator-id-4\" class=\"sk-toggleable__label sk-toggleable__label-arrow\">AdaBoostClassifier</label><div class=\"sk-toggleable__content\"><pre>AdaBoostClassifier()</pre></div></div></div></div></div>"
      ],
      "text/plain": [
       "AdaBoostClassifier()"
      ]
     },
     "execution_count": 50,
     "metadata": {},
     "output_type": "execute_result"
    }
   ],
   "source": [
    "# Fitting model on training data\n",
    "model.fit(X_train,y_train)"
   ]
  },
  {
   "cell_type": "code",
   "execution_count": 51,
   "id": "37a17c7e",
   "metadata": {},
   "outputs": [],
   "source": [
    "# Predicting class label for test data\n",
    "y_pred = model.predict(X_test)"
   ]
  },
  {
   "cell_type": "code",
   "execution_count": 52,
   "id": "2aa80277",
   "metadata": {
    "scrolled": true
   },
   "outputs": [
    {
     "name": "stdout",
     "output_type": "stream",
     "text": [
      "+-------------------+--------------------+\n",
      "| Evaluation Metric |       Value        |\n",
      "+-------------------+--------------------+\n",
      "|      Accuracy     | 0.7745570609692548 |\n",
      "|     Precision     | 0.7745570609692548 |\n",
      "|       Recall      | 0.7745570609692548 |\n",
      "|      F1 Score     | 0.7745570609692548 |\n",
      "+-------------------+--------------------+\n"
     ]
    }
   ],
   "source": [
    "# Evaluating Model\n",
    "table = PrettyTable()\n",
    "table.field_names = [\"Evaluation Metric\", \"Value\"]\n",
    "\n",
    "conf_mat['AdaBoost'] = confusion_matrix(y_test,y_pred)\n",
    "acc['AdaBoost'] = accuracy_score(y_test,y_pred)\n",
    "\n",
    "# fraction of correctly predicted instances\n",
    "# 1 indicates perfect prediction accuracy and 0 indicates complete failure\n",
    "table.add_row([\"Accuracy\", accuracy_score(y_test,y_pred)])\n",
    "\n",
    "# ability of the classifier not to label as positive a sample that is negative\n",
    "# best value is 1 and the worst value is 0\n",
    "table.add_row([\"Precision\", precision_score(y_test, y_pred, average='micro')])\n",
    "\n",
    "# ability of the classifier to find all the positive samples\n",
    "# best value is 1 and the worst value is 0\n",
    "table.add_row([\"Recall\", recall_score(y_test, y_pred, average='micro')])\n",
    "\n",
    "# harmonic mean of the precision and recall\n",
    "# best value is 1 and the worst value is 0\n",
    "table.add_row([\"F1 Score\", f1_score(y_test, y_pred, average='micro')])\n",
    "\n",
    "print(table)"
   ]
  },
  {
   "cell_type": "markdown",
   "id": "53f90d64",
   "metadata": {},
   "source": [
    "## Random Forest Classifier"
   ]
  },
  {
   "cell_type": "code",
   "execution_count": 53,
   "id": "1a3816ef",
   "metadata": {},
   "outputs": [],
   "source": [
    "# Creating an instance of the model\n",
    "model = RandomForestClassifier()"
   ]
  },
  {
   "cell_type": "code",
   "execution_count": 54,
   "id": "f8752445",
   "metadata": {},
   "outputs": [
    {
     "name": "stdout",
     "output_type": "stream",
     "text": [
      "+-------------------------+----------------------------------------------------------+\n",
      "|    Evaluation Metric    |                          Value                           |\n",
      "+-------------------------+----------------------------------------------------------+\n",
      "|      Accuracy Score     | [0.98591435 0.98298323 0.97972643 0.98078332 0.98249328] |\n",
      "|                         |                                                          |\n",
      "|  Average Accuracy Score |                    0.9823801217490009                    |\n",
      "|                         |                                                          |\n",
      "|     Precision Score     | [0.98550725 0.98404169 0.97948217 0.97964335 0.98338897] |\n",
      "|                         |                                                          |\n",
      "| Average Precision Score |                    0.9824126857568206                    |\n",
      "|                         |                                                          |\n",
      "|       Recall Score      | [0.98648429 0.98396027 0.97948217 0.9810276  0.98233043] |\n",
      "|                         |                                                          |\n",
      "|   Average Recall Score  |                    0.9826569509531465                    |\n",
      "|                         |                                                          |\n",
      "|         F1 Score        | [0.98550725 0.98314607 0.98005211 0.98086475 0.98241186] |\n",
      "|                         |                                                          |\n",
      "|     Average F1 Score    |                    0.9823964057418358                    |\n",
      "+-------------------------+----------------------------------------------------------+\n",
      "\n"
     ]
    }
   ],
   "source": [
    "# Performing stratified k-fold cross validation on training data\n",
    "sk_folds = StratifiedKFold(n_splits = 5)\n",
    "\n",
    "table = PrettyTable()\n",
    "table.field_names = [\"Evaluation Metric\", \"Value\"]\n",
    "\n",
    "accuracy = cross_val_score(model, X_train, y_train, cv=sk_folds, scoring = 'accuracy')\n",
    "table.add_row([\"Accuracy Score\", accuracy])\n",
    "table.add_row(['',''])\n",
    "table.add_row([\"Average Accuracy Score\", accuracy.mean()])\n",
    "table.add_row(['',''])\n",
    "\n",
    "precision = cross_val_score(model, X_train, y_train, cv=sk_folds, scoring = 'precision_micro')\n",
    "table.add_row([\"Precision Score\", precision])\n",
    "table.add_row(['',''])\n",
    "table.add_row([\"Average Precision Score\", precision.mean()])\n",
    "table.add_row(['',''])\n",
    "\n",
    "recall = cross_val_score(model, X_train, y_train, cv=sk_folds, scoring = 'recall_micro')\n",
    "table.add_row([\"Recall Score\",  recall])\n",
    "table.add_row(['',''])\n",
    "table.add_row([\"Average Recall Score\",  recall.mean()])\n",
    "table.add_row(['',''])\n",
    "        \n",
    "f1 = cross_val_score(model, X_train, y_train, cv=sk_folds, scoring = 'f1_micro')\n",
    "table.add_row([\"F1 Score\", f1])\n",
    "table.add_row(['',''])\n",
    "table.add_row([\"Average F1 Score\",  f1.mean()])\n",
    "        \n",
    "print(table)\n",
    "print()"
   ]
  },
  {
   "cell_type": "code",
   "execution_count": 55,
   "id": "556118ac",
   "metadata": {},
   "outputs": [
    {
     "data": {
      "text/html": [
       "<style>#sk-container-id-5 {color: black;background-color: white;}#sk-container-id-5 pre{padding: 0;}#sk-container-id-5 div.sk-toggleable {background-color: white;}#sk-container-id-5 label.sk-toggleable__label {cursor: pointer;display: block;width: 100%;margin-bottom: 0;padding: 0.3em;box-sizing: border-box;text-align: center;}#sk-container-id-5 label.sk-toggleable__label-arrow:before {content: \"▸\";float: left;margin-right: 0.25em;color: #696969;}#sk-container-id-5 label.sk-toggleable__label-arrow:hover:before {color: black;}#sk-container-id-5 div.sk-estimator:hover label.sk-toggleable__label-arrow:before {color: black;}#sk-container-id-5 div.sk-toggleable__content {max-height: 0;max-width: 0;overflow: hidden;text-align: left;background-color: #f0f8ff;}#sk-container-id-5 div.sk-toggleable__content pre {margin: 0.2em;color: black;border-radius: 0.25em;background-color: #f0f8ff;}#sk-container-id-5 input.sk-toggleable__control:checked~div.sk-toggleable__content {max-height: 200px;max-width: 100%;overflow: auto;}#sk-container-id-5 input.sk-toggleable__control:checked~label.sk-toggleable__label-arrow:before {content: \"▾\";}#sk-container-id-5 div.sk-estimator input.sk-toggleable__control:checked~label.sk-toggleable__label {background-color: #d4ebff;}#sk-container-id-5 div.sk-label input.sk-toggleable__control:checked~label.sk-toggleable__label {background-color: #d4ebff;}#sk-container-id-5 input.sk-hidden--visually {border: 0;clip: rect(1px 1px 1px 1px);clip: rect(1px, 1px, 1px, 1px);height: 1px;margin: -1px;overflow: hidden;padding: 0;position: absolute;width: 1px;}#sk-container-id-5 div.sk-estimator {font-family: monospace;background-color: #f0f8ff;border: 1px dotted black;border-radius: 0.25em;box-sizing: border-box;margin-bottom: 0.5em;}#sk-container-id-5 div.sk-estimator:hover {background-color: #d4ebff;}#sk-container-id-5 div.sk-parallel-item::after {content: \"\";width: 100%;border-bottom: 1px solid gray;flex-grow: 1;}#sk-container-id-5 div.sk-label:hover label.sk-toggleable__label {background-color: #d4ebff;}#sk-container-id-5 div.sk-serial::before {content: \"\";position: absolute;border-left: 1px solid gray;box-sizing: border-box;top: 0;bottom: 0;left: 50%;z-index: 0;}#sk-container-id-5 div.sk-serial {display: flex;flex-direction: column;align-items: center;background-color: white;padding-right: 0.2em;padding-left: 0.2em;position: relative;}#sk-container-id-5 div.sk-item {position: relative;z-index: 1;}#sk-container-id-5 div.sk-parallel {display: flex;align-items: stretch;justify-content: center;background-color: white;position: relative;}#sk-container-id-5 div.sk-item::before, #sk-container-id-5 div.sk-parallel-item::before {content: \"\";position: absolute;border-left: 1px solid gray;box-sizing: border-box;top: 0;bottom: 0;left: 50%;z-index: -1;}#sk-container-id-5 div.sk-parallel-item {display: flex;flex-direction: column;z-index: 1;position: relative;background-color: white;}#sk-container-id-5 div.sk-parallel-item:first-child::after {align-self: flex-end;width: 50%;}#sk-container-id-5 div.sk-parallel-item:last-child::after {align-self: flex-start;width: 50%;}#sk-container-id-5 div.sk-parallel-item:only-child::after {width: 0;}#sk-container-id-5 div.sk-dashed-wrapped {border: 1px dashed gray;margin: 0 0.4em 0.5em 0.4em;box-sizing: border-box;padding-bottom: 0.4em;background-color: white;}#sk-container-id-5 div.sk-label label {font-family: monospace;font-weight: bold;display: inline-block;line-height: 1.2em;}#sk-container-id-5 div.sk-label-container {text-align: center;}#sk-container-id-5 div.sk-container {/* jupyter's `normalize.less` sets `[hidden] { display: none; }` but bootstrap.min.css set `[hidden] { display: none !important; }` so we also need the `!important` here to be able to override the default hidden behavior on the sphinx rendered scikit-learn.org. See: https://github.com/scikit-learn/scikit-learn/issues/21755 */display: inline-block !important;position: relative;}#sk-container-id-5 div.sk-text-repr-fallback {display: none;}</style><div id=\"sk-container-id-5\" class=\"sk-top-container\"><div class=\"sk-text-repr-fallback\"><pre>RandomForestClassifier()</pre><b>In a Jupyter environment, please rerun this cell to show the HTML representation or trust the notebook. <br />On GitHub, the HTML representation is unable to render, please try loading this page with nbviewer.org.</b></div><div class=\"sk-container\" hidden><div class=\"sk-item\"><div class=\"sk-estimator sk-toggleable\"><input class=\"sk-toggleable__control sk-hidden--visually\" id=\"sk-estimator-id-5\" type=\"checkbox\" checked><label for=\"sk-estimator-id-5\" class=\"sk-toggleable__label sk-toggleable__label-arrow\">RandomForestClassifier</label><div class=\"sk-toggleable__content\"><pre>RandomForestClassifier()</pre></div></div></div></div></div>"
      ],
      "text/plain": [
       "RandomForestClassifier()"
      ]
     },
     "execution_count": 55,
     "metadata": {},
     "output_type": "execute_result"
    }
   ],
   "source": [
    "# Fitting model on training data\n",
    "model.fit(X_train,y_train)"
   ]
  },
  {
   "cell_type": "code",
   "execution_count": 56,
   "id": "60a5ab1d",
   "metadata": {},
   "outputs": [],
   "source": [
    "# Predicting class label for test data\n",
    "y_pred = model.predict(X_test)"
   ]
  },
  {
   "cell_type": "code",
   "execution_count": 57,
   "id": "95a11ed1",
   "metadata": {
    "scrolled": true
   },
   "outputs": [
    {
     "name": "stdout",
     "output_type": "stream",
     "text": [
      "+-------------------+--------------------+\n",
      "| Evaluation Metric |       Value        |\n",
      "+-------------------+--------------------+\n",
      "|      Accuracy     | 0.9873632100052111 |\n",
      "|     Precision     | 0.9873632100052111 |\n",
      "|       Recall      | 0.9873632100052111 |\n",
      "|      F1 Score     | 0.9873632100052111 |\n",
      "+-------------------+--------------------+\n"
     ]
    }
   ],
   "source": [
    "# Evaluating Model\n",
    "table = PrettyTable()\n",
    "table.field_names = [\"Evaluation Metric\", \"Value\"]\n",
    "\n",
    "conf_mat['Random Forest'] = confusion_matrix(y_test,y_pred)\n",
    "acc['Random Forest'] = accuracy_score(y_test,y_pred)\n",
    "\n",
    "# fraction of correctly predicted instances\n",
    "# 1 indicates perfect prediction accuracy and 0 indicates complete failure\n",
    "table.add_row([\"Accuracy\", accuracy_score(y_test,y_pred)])\n",
    "\n",
    "# ability of the classifier not to label as positive a sample that is negative\n",
    "# best value is 1 and the worst value is 0\n",
    "table.add_row([\"Precision\", precision_score(y_test, y_pred, average='micro')])\n",
    "\n",
    "# ability of the classifier to find all the positive samples\n",
    "# best value is 1 and the worst value is 0\n",
    "table.add_row([\"Recall\", recall_score(y_test, y_pred, average='micro')])\n",
    "\n",
    "# harmonic mean of the precision and recall\n",
    "# best value is 1 and the worst value is 0\n",
    "table.add_row([\"F1 Score\", f1_score(y_test, y_pred, average='micro')])\n",
    "\n",
    "print(table)"
   ]
  },
  {
   "cell_type": "markdown",
   "id": "c233afee",
   "metadata": {},
   "source": [
    "## ExtraTreesClassifier"
   ]
  },
  {
   "cell_type": "code",
   "execution_count": 58,
   "id": "8556bd6f",
   "metadata": {},
   "outputs": [],
   "source": [
    "# Creating an instance of the model\n",
    "model = ExtraTreesClassifier()"
   ]
  },
  {
   "cell_type": "code",
   "execution_count": 59,
   "id": "a6f2020d",
   "metadata": {},
   "outputs": [
    {
     "name": "stdout",
     "output_type": "stream",
     "text": [
      "+-------------------------+----------------------------------------------------------+\n",
      "|    Evaluation Metric    |                          Value                           |\n",
      "+-------------------------+----------------------------------------------------------+\n",
      "|      Accuracy Score     | [0.98827553 0.98550725 0.98159909 0.98208615 0.98461037] |\n",
      "|                         |                                                          |\n",
      "|  Average Accuracy Score |                    0.9844156765432842                    |\n",
      "|                         |                                                          |\n",
      "|     Precision Score     | [0.98737991 0.98632145 0.98184335 0.98281899 0.98452895] |\n",
      "|                         |                                                          |\n",
      "| Average Precision Score |                    0.9845785270792353                    |\n",
      "|                         |                                                          |\n",
      "|       Recall Score      | [0.98705423 0.98510015 0.98062205 0.98290042 0.98412181] |\n",
      "|                         |                                                          |\n",
      "|   Average Recall Score  |                    0.9839597300477033                    |\n",
      "|                         |                                                          |\n",
      "|         F1 Score        | [0.98680997 0.98542583 0.98070347 0.98249328 0.98444752] |\n",
      "|                         |                                                          |\n",
      "|     Average F1 Score    |                    0.9839760127145883                    |\n",
      "+-------------------------+----------------------------------------------------------+\n",
      "\n"
     ]
    }
   ],
   "source": [
    "# Performing stratified k-fold cross validation on training data\n",
    "sk_folds = StratifiedKFold(n_splits = 5)\n",
    "\n",
    "table = PrettyTable()\n",
    "table.field_names = [\"Evaluation Metric\", \"Value\"]\n",
    "\n",
    "accuracy = cross_val_score(model, X_train, y_train, cv=sk_folds, scoring = 'accuracy')\n",
    "table.add_row([\"Accuracy Score\", accuracy])\n",
    "table.add_row(['',''])\n",
    "table.add_row([\"Average Accuracy Score\", accuracy.mean()])\n",
    "table.add_row(['',''])\n",
    "\n",
    "precision = cross_val_score(model, X_train, y_train, cv=sk_folds, scoring = 'precision_micro')\n",
    "table.add_row([\"Precision Score\", precision])\n",
    "table.add_row(['',''])\n",
    "table.add_row([\"Average Precision Score\", precision.mean()])\n",
    "table.add_row(['',''])\n",
    "\n",
    "recall = cross_val_score(model, X_train, y_train, cv=sk_folds, scoring = 'recall_micro')\n",
    "table.add_row([\"Recall Score\",  recall])\n",
    "table.add_row(['',''])\n",
    "table.add_row([\"Average Recall Score\",  recall.mean()])\n",
    "table.add_row(['',''])\n",
    "        \n",
    "f1 = cross_val_score(model, X_train, y_train, cv=sk_folds, scoring = 'f1_micro')\n",
    "table.add_row([\"F1 Score\", f1])\n",
    "table.add_row(['',''])\n",
    "table.add_row([\"Average F1 Score\",  f1.mean()])\n",
    "        \n",
    "print(table)\n",
    "print()"
   ]
  },
  {
   "cell_type": "code",
   "execution_count": 60,
   "id": "38919bf8",
   "metadata": {},
   "outputs": [
    {
     "data": {
      "text/html": [
       "<style>#sk-container-id-6 {color: black;background-color: white;}#sk-container-id-6 pre{padding: 0;}#sk-container-id-6 div.sk-toggleable {background-color: white;}#sk-container-id-6 label.sk-toggleable__label {cursor: pointer;display: block;width: 100%;margin-bottom: 0;padding: 0.3em;box-sizing: border-box;text-align: center;}#sk-container-id-6 label.sk-toggleable__label-arrow:before {content: \"▸\";float: left;margin-right: 0.25em;color: #696969;}#sk-container-id-6 label.sk-toggleable__label-arrow:hover:before {color: black;}#sk-container-id-6 div.sk-estimator:hover label.sk-toggleable__label-arrow:before {color: black;}#sk-container-id-6 div.sk-toggleable__content {max-height: 0;max-width: 0;overflow: hidden;text-align: left;background-color: #f0f8ff;}#sk-container-id-6 div.sk-toggleable__content pre {margin: 0.2em;color: black;border-radius: 0.25em;background-color: #f0f8ff;}#sk-container-id-6 input.sk-toggleable__control:checked~div.sk-toggleable__content {max-height: 200px;max-width: 100%;overflow: auto;}#sk-container-id-6 input.sk-toggleable__control:checked~label.sk-toggleable__label-arrow:before {content: \"▾\";}#sk-container-id-6 div.sk-estimator input.sk-toggleable__control:checked~label.sk-toggleable__label {background-color: #d4ebff;}#sk-container-id-6 div.sk-label input.sk-toggleable__control:checked~label.sk-toggleable__label {background-color: #d4ebff;}#sk-container-id-6 input.sk-hidden--visually {border: 0;clip: rect(1px 1px 1px 1px);clip: rect(1px, 1px, 1px, 1px);height: 1px;margin: -1px;overflow: hidden;padding: 0;position: absolute;width: 1px;}#sk-container-id-6 div.sk-estimator {font-family: monospace;background-color: #f0f8ff;border: 1px dotted black;border-radius: 0.25em;box-sizing: border-box;margin-bottom: 0.5em;}#sk-container-id-6 div.sk-estimator:hover {background-color: #d4ebff;}#sk-container-id-6 div.sk-parallel-item::after {content: \"\";width: 100%;border-bottom: 1px solid gray;flex-grow: 1;}#sk-container-id-6 div.sk-label:hover label.sk-toggleable__label {background-color: #d4ebff;}#sk-container-id-6 div.sk-serial::before {content: \"\";position: absolute;border-left: 1px solid gray;box-sizing: border-box;top: 0;bottom: 0;left: 50%;z-index: 0;}#sk-container-id-6 div.sk-serial {display: flex;flex-direction: column;align-items: center;background-color: white;padding-right: 0.2em;padding-left: 0.2em;position: relative;}#sk-container-id-6 div.sk-item {position: relative;z-index: 1;}#sk-container-id-6 div.sk-parallel {display: flex;align-items: stretch;justify-content: center;background-color: white;position: relative;}#sk-container-id-6 div.sk-item::before, #sk-container-id-6 div.sk-parallel-item::before {content: \"\";position: absolute;border-left: 1px solid gray;box-sizing: border-box;top: 0;bottom: 0;left: 50%;z-index: -1;}#sk-container-id-6 div.sk-parallel-item {display: flex;flex-direction: column;z-index: 1;position: relative;background-color: white;}#sk-container-id-6 div.sk-parallel-item:first-child::after {align-self: flex-end;width: 50%;}#sk-container-id-6 div.sk-parallel-item:last-child::after {align-self: flex-start;width: 50%;}#sk-container-id-6 div.sk-parallel-item:only-child::after {width: 0;}#sk-container-id-6 div.sk-dashed-wrapped {border: 1px dashed gray;margin: 0 0.4em 0.5em 0.4em;box-sizing: border-box;padding-bottom: 0.4em;background-color: white;}#sk-container-id-6 div.sk-label label {font-family: monospace;font-weight: bold;display: inline-block;line-height: 1.2em;}#sk-container-id-6 div.sk-label-container {text-align: center;}#sk-container-id-6 div.sk-container {/* jupyter's `normalize.less` sets `[hidden] { display: none; }` but bootstrap.min.css set `[hidden] { display: none !important; }` so we also need the `!important` here to be able to override the default hidden behavior on the sphinx rendered scikit-learn.org. See: https://github.com/scikit-learn/scikit-learn/issues/21755 */display: inline-block !important;position: relative;}#sk-container-id-6 div.sk-text-repr-fallback {display: none;}</style><div id=\"sk-container-id-6\" class=\"sk-top-container\"><div class=\"sk-text-repr-fallback\"><pre>ExtraTreesClassifier()</pre><b>In a Jupyter environment, please rerun this cell to show the HTML representation or trust the notebook. <br />On GitHub, the HTML representation is unable to render, please try loading this page with nbviewer.org.</b></div><div class=\"sk-container\" hidden><div class=\"sk-item\"><div class=\"sk-estimator sk-toggleable\"><input class=\"sk-toggleable__control sk-hidden--visually\" id=\"sk-estimator-id-6\" type=\"checkbox\" checked><label for=\"sk-estimator-id-6\" class=\"sk-toggleable__label sk-toggleable__label-arrow\">ExtraTreesClassifier</label><div class=\"sk-toggleable__content\"><pre>ExtraTreesClassifier()</pre></div></div></div></div></div>"
      ],
      "text/plain": [
       "ExtraTreesClassifier()"
      ]
     },
     "execution_count": 60,
     "metadata": {},
     "output_type": "execute_result"
    }
   ],
   "source": [
    "# Fitting model on training data\n",
    "model.fit(X_train,y_train)"
   ]
  },
  {
   "cell_type": "code",
   "execution_count": 61,
   "id": "3072c440",
   "metadata": {},
   "outputs": [],
   "source": [
    "# Predicting class label for test data\n",
    "y_pred = model.predict(X_test)"
   ]
  },
  {
   "cell_type": "code",
   "execution_count": 62,
   "id": "203fe10a",
   "metadata": {
    "scrolled": true
   },
   "outputs": [
    {
     "name": "stdout",
     "output_type": "stream",
     "text": [
      "+-------------------+--------------------+\n",
      "| Evaluation Metric |       Value        |\n",
      "+-------------------+--------------------+\n",
      "|      Accuracy     | 0.9906852527357999 |\n",
      "|     Precision     | 0.9906852527357999 |\n",
      "|       Recall      | 0.9906852527357999 |\n",
      "|      F1 Score     | 0.9906852527357999 |\n",
      "+-------------------+--------------------+\n"
     ]
    }
   ],
   "source": [
    "# Evaluating Model\n",
    "table = PrettyTable()\n",
    "table.field_names = [\"Evaluation Metric\", \"Value\"]\n",
    "\n",
    "conf_mat['Extra Trees'] = confusion_matrix(y_test,y_pred)\n",
    "acc['Extra Trees'] = accuracy_score(y_test,y_pred)\n",
    "\n",
    "# fraction of correctly predicted instances\n",
    "# 1 indicates perfect prediction accuracy and 0 indicates complete failure\n",
    "table.add_row([\"Accuracy\", accuracy_score(y_test,y_pred)])\n",
    "\n",
    "# ability of the classifier not to label as positive a sample that is negative\n",
    "# best value is 1 and the worst value is 0\n",
    "table.add_row([\"Precision\", precision_score(y_test, y_pred, average='micro')])\n",
    "\n",
    "# ability of the classifier to find all the positive samples\n",
    "# best value is 1 and the worst value is 0\n",
    "table.add_row([\"Recall\", recall_score(y_test, y_pred, average='micro')])\n",
    "\n",
    "# harmonic mean of the precision and recall\n",
    "# best value is 1 and the worst value is 0\n",
    "table.add_row([\"F1 Score\", f1_score(y_test, y_pred, average='micro')])\n",
    "\n",
    "print(table)"
   ]
  },
  {
   "cell_type": "markdown",
   "id": "380c5e48",
   "metadata": {},
   "source": [
    "## SVM Classifier"
   ]
  },
  {
   "cell_type": "code",
   "execution_count": 63,
   "id": "fc1ea8e1",
   "metadata": {},
   "outputs": [],
   "source": [
    "# Creating an instance of the model\n",
    "model = SVC()"
   ]
  },
  {
   "cell_type": "code",
   "execution_count": 64,
   "id": "c721cf94",
   "metadata": {},
   "outputs": [
    {
     "name": "stdout",
     "output_type": "stream",
     "text": [
      "+-------------------------+----------------------------------------------------------+\n",
      "|    Evaluation Metric    |                          Value                           |\n",
      "+-------------------------+----------------------------------------------------------+\n",
      "|      Accuracy Score     | [0.92810617 0.92053411 0.92224393 0.92166762 0.92126048] |\n",
      "|                         |                                                          |\n",
      "|  Average Accuracy Score |                    0.9227624642257013                    |\n",
      "|                         |                                                          |\n",
      "|     Precision Score     | [0.92810617 0.92053411 0.92224393 0.92166762 0.92126048] |\n",
      "|                         |                                                          |\n",
      "| Average Precision Score |                    0.9227624642257013                    |\n",
      "|                         |                                                          |\n",
      "|       Recall Score      | [0.92810617 0.92053411 0.92224393 0.92166762 0.92126048] |\n",
      "|                         |                                                          |\n",
      "|   Average Recall Score  |                    0.9227624642257013                    |\n",
      "|                         |                                                          |\n",
      "|         F1 Score        | [0.92810617 0.92053411 0.92224393 0.92166762 0.92126048] |\n",
      "|                         |                                                          |\n",
      "|     Average F1 Score    |                    0.9227624642257013                    |\n",
      "+-------------------------+----------------------------------------------------------+\n",
      "\n"
     ]
    }
   ],
   "source": [
    "# Performing stratified k-fold cross validation on training data\n",
    "sk_folds = StratifiedKFold(n_splits = 5)\n",
    "\n",
    "table = PrettyTable()\n",
    "table.field_names = [\"Evaluation Metric\", \"Value\"]\n",
    "\n",
    "accuracy = cross_val_score(model, X_train, y_train, cv=sk_folds, scoring = 'accuracy')\n",
    "table.add_row([\"Accuracy Score\", accuracy])\n",
    "table.add_row(['',''])\n",
    "table.add_row([\"Average Accuracy Score\", accuracy.mean()])\n",
    "table.add_row(['',''])\n",
    "\n",
    "precision = cross_val_score(model, X_train, y_train, cv=sk_folds, scoring = 'precision_micro')\n",
    "table.add_row([\"Precision Score\", precision])\n",
    "table.add_row(['',''])\n",
    "table.add_row([\"Average Precision Score\", precision.mean()])\n",
    "table.add_row(['',''])\n",
    "\n",
    "recall = cross_val_score(model, X_train, y_train, cv=sk_folds, scoring = 'recall_micro')\n",
    "table.add_row([\"Recall Score\",  recall])\n",
    "table.add_row(['',''])\n",
    "table.add_row([\"Average Recall Score\",  recall.mean()])\n",
    "table.add_row(['',''])\n",
    "        \n",
    "f1 = cross_val_score(model, X_train, y_train, cv=sk_folds, scoring = 'f1_micro')\n",
    "table.add_row([\"F1 Score\", f1])\n",
    "table.add_row(['',''])\n",
    "table.add_row([\"Average F1 Score\",  f1.mean()])\n",
    "        \n",
    "print(table)\n",
    "print()"
   ]
  },
  {
   "cell_type": "code",
   "execution_count": 65,
   "id": "2a3d0926",
   "metadata": {},
   "outputs": [
    {
     "data": {
      "text/html": [
       "<style>#sk-container-id-7 {color: black;background-color: white;}#sk-container-id-7 pre{padding: 0;}#sk-container-id-7 div.sk-toggleable {background-color: white;}#sk-container-id-7 label.sk-toggleable__label {cursor: pointer;display: block;width: 100%;margin-bottom: 0;padding: 0.3em;box-sizing: border-box;text-align: center;}#sk-container-id-7 label.sk-toggleable__label-arrow:before {content: \"▸\";float: left;margin-right: 0.25em;color: #696969;}#sk-container-id-7 label.sk-toggleable__label-arrow:hover:before {color: black;}#sk-container-id-7 div.sk-estimator:hover label.sk-toggleable__label-arrow:before {color: black;}#sk-container-id-7 div.sk-toggleable__content {max-height: 0;max-width: 0;overflow: hidden;text-align: left;background-color: #f0f8ff;}#sk-container-id-7 div.sk-toggleable__content pre {margin: 0.2em;color: black;border-radius: 0.25em;background-color: #f0f8ff;}#sk-container-id-7 input.sk-toggleable__control:checked~div.sk-toggleable__content {max-height: 200px;max-width: 100%;overflow: auto;}#sk-container-id-7 input.sk-toggleable__control:checked~label.sk-toggleable__label-arrow:before {content: \"▾\";}#sk-container-id-7 div.sk-estimator input.sk-toggleable__control:checked~label.sk-toggleable__label {background-color: #d4ebff;}#sk-container-id-7 div.sk-label input.sk-toggleable__control:checked~label.sk-toggleable__label {background-color: #d4ebff;}#sk-container-id-7 input.sk-hidden--visually {border: 0;clip: rect(1px 1px 1px 1px);clip: rect(1px, 1px, 1px, 1px);height: 1px;margin: -1px;overflow: hidden;padding: 0;position: absolute;width: 1px;}#sk-container-id-7 div.sk-estimator {font-family: monospace;background-color: #f0f8ff;border: 1px dotted black;border-radius: 0.25em;box-sizing: border-box;margin-bottom: 0.5em;}#sk-container-id-7 div.sk-estimator:hover {background-color: #d4ebff;}#sk-container-id-7 div.sk-parallel-item::after {content: \"\";width: 100%;border-bottom: 1px solid gray;flex-grow: 1;}#sk-container-id-7 div.sk-label:hover label.sk-toggleable__label {background-color: #d4ebff;}#sk-container-id-7 div.sk-serial::before {content: \"\";position: absolute;border-left: 1px solid gray;box-sizing: border-box;top: 0;bottom: 0;left: 50%;z-index: 0;}#sk-container-id-7 div.sk-serial {display: flex;flex-direction: column;align-items: center;background-color: white;padding-right: 0.2em;padding-left: 0.2em;position: relative;}#sk-container-id-7 div.sk-item {position: relative;z-index: 1;}#sk-container-id-7 div.sk-parallel {display: flex;align-items: stretch;justify-content: center;background-color: white;position: relative;}#sk-container-id-7 div.sk-item::before, #sk-container-id-7 div.sk-parallel-item::before {content: \"\";position: absolute;border-left: 1px solid gray;box-sizing: border-box;top: 0;bottom: 0;left: 50%;z-index: -1;}#sk-container-id-7 div.sk-parallel-item {display: flex;flex-direction: column;z-index: 1;position: relative;background-color: white;}#sk-container-id-7 div.sk-parallel-item:first-child::after {align-self: flex-end;width: 50%;}#sk-container-id-7 div.sk-parallel-item:last-child::after {align-self: flex-start;width: 50%;}#sk-container-id-7 div.sk-parallel-item:only-child::after {width: 0;}#sk-container-id-7 div.sk-dashed-wrapped {border: 1px dashed gray;margin: 0 0.4em 0.5em 0.4em;box-sizing: border-box;padding-bottom: 0.4em;background-color: white;}#sk-container-id-7 div.sk-label label {font-family: monospace;font-weight: bold;display: inline-block;line-height: 1.2em;}#sk-container-id-7 div.sk-label-container {text-align: center;}#sk-container-id-7 div.sk-container {/* jupyter's `normalize.less` sets `[hidden] { display: none; }` but bootstrap.min.css set `[hidden] { display: none !important; }` so we also need the `!important` here to be able to override the default hidden behavior on the sphinx rendered scikit-learn.org. See: https://github.com/scikit-learn/scikit-learn/issues/21755 */display: inline-block !important;position: relative;}#sk-container-id-7 div.sk-text-repr-fallback {display: none;}</style><div id=\"sk-container-id-7\" class=\"sk-top-container\"><div class=\"sk-text-repr-fallback\"><pre>SVC()</pre><b>In a Jupyter environment, please rerun this cell to show the HTML representation or trust the notebook. <br />On GitHub, the HTML representation is unable to render, please try loading this page with nbviewer.org.</b></div><div class=\"sk-container\" hidden><div class=\"sk-item\"><div class=\"sk-estimator sk-toggleable\"><input class=\"sk-toggleable__control sk-hidden--visually\" id=\"sk-estimator-id-7\" type=\"checkbox\" checked><label for=\"sk-estimator-id-7\" class=\"sk-toggleable__label sk-toggleable__label-arrow\">SVC</label><div class=\"sk-toggleable__content\"><pre>SVC()</pre></div></div></div></div></div>"
      ],
      "text/plain": [
       "SVC()"
      ]
     },
     "execution_count": 65,
     "metadata": {},
     "output_type": "execute_result"
    }
   ],
   "source": [
    "# Fitting model on training data\n",
    "model.fit(X_train,y_train)"
   ]
  },
  {
   "cell_type": "code",
   "execution_count": 66,
   "id": "48f45cd1",
   "metadata": {},
   "outputs": [],
   "source": [
    "# Predicting class label for test data\n",
    "y_pred = model.predict(X_test)"
   ]
  },
  {
   "cell_type": "code",
   "execution_count": 67,
   "id": "04981946",
   "metadata": {
    "scrolled": true
   },
   "outputs": [
    {
     "name": "stdout",
     "output_type": "stream",
     "text": [
      "+-------------------+--------------------+\n",
      "| Evaluation Metric |       Value        |\n",
      "+-------------------+--------------------+\n",
      "|      Accuracy     | 0.9260031266284523 |\n",
      "|     Precision     | 0.9260031266284523 |\n",
      "|       Recall      | 0.9260031266284523 |\n",
      "|      F1 Score     | 0.9260031266284523 |\n",
      "+-------------------+--------------------+\n"
     ]
    }
   ],
   "source": [
    "# Evaluating Model\n",
    "table = PrettyTable()\n",
    "table.field_names = [\"Evaluation Metric\", \"Value\"]\n",
    "\n",
    "conf_mat['SVM'] = confusion_matrix(y_test,y_pred)\n",
    "acc['SVM'] = accuracy_score(y_test,y_pred)\n",
    "\n",
    "# fraction of correctly predicted instances\n",
    "# 1 indicates perfect prediction accuracy and 0 indicates complete failure\n",
    "table.add_row([\"Accuracy\", accuracy_score(y_test,y_pred)])\n",
    "\n",
    "# ability of the classifier not to label as positive a sample that is negative\n",
    "# best value is 1 and the worst value is 0\n",
    "table.add_row([\"Precision\", precision_score(y_test, y_pred, average='micro')])\n",
    "\n",
    "# ability of the classifier to find all the positive samples\n",
    "# best value is 1 and the worst value is 0\n",
    "table.add_row([\"Recall\", recall_score(y_test, y_pred, average='micro')])\n",
    "\n",
    "# harmonic mean of the precision and recall\n",
    "# best value is 1 and the worst value is 0\n",
    "table.add_row([\"F1 Score\", f1_score(y_test, y_pred, average='micro')])\n",
    "\n",
    "print(table)"
   ]
  },
  {
   "cell_type": "markdown",
   "id": "73122247",
   "metadata": {},
   "source": [
    "## Logistic Regression"
   ]
  },
  {
   "cell_type": "code",
   "execution_count": 73,
   "id": "e2a9aab5",
   "metadata": {},
   "outputs": [],
   "source": [
    "# Creating an instance of the model\n",
    "model = LogisticRegression(max_iter=1000)"
   ]
  },
  {
   "cell_type": "code",
   "execution_count": 74,
   "id": "1a56fe07",
   "metadata": {},
   "outputs": [
    {
     "name": "stdout",
     "output_type": "stream",
     "text": [
      "+-------------------------+----------------------------------------------------------+\n",
      "|    Evaluation Metric    |                          Value                           |\n",
      "+-------------------------+----------------------------------------------------------+\n",
      "|      Accuracy Score     | [0.91858004 0.91182218 0.91459046 0.91116359 0.90969791] |\n",
      "|                         |                                                          |\n",
      "|  Average Accuracy Score |                    0.9131708331133913                    |\n",
      "|                         |                                                          |\n",
      "|     Precision Score     | [0.91858004 0.91182218 0.91459046 0.91116359 0.90969791] |\n",
      "|                         |                                                          |\n",
      "| Average Precision Score |                    0.9131708331133913                    |\n",
      "|                         |                                                          |\n",
      "|       Recall Score      | [0.91858004 0.91182218 0.91459046 0.91116359 0.90969791] |\n",
      "|                         |                                                          |\n",
      "|   Average Recall Score  |                    0.9131708331133913                    |\n",
      "|                         |                                                          |\n",
      "|         F1 Score        | [0.91858004 0.91182218 0.91459046 0.91116359 0.90969791] |\n",
      "|                         |                                                          |\n",
      "|     Average F1 Score    |                    0.9131708331133913                    |\n",
      "+-------------------------+----------------------------------------------------------+\n",
      "\n"
     ]
    }
   ],
   "source": [
    "# Performing stratified k-fold cross validation on training data\n",
    "sk_folds = StratifiedKFold(n_splits = 5)\n",
    "\n",
    "table = PrettyTable()\n",
    "table.field_names = [\"Evaluation Metric\", \"Value\"]\n",
    "\n",
    "accuracy = cross_val_score(model, X_train, y_train, cv=sk_folds, scoring = 'accuracy')\n",
    "table.add_row([\"Accuracy Score\", accuracy])\n",
    "table.add_row(['',''])\n",
    "table.add_row([\"Average Accuracy Score\", accuracy.mean()])\n",
    "table.add_row(['',''])\n",
    "\n",
    "precision = cross_val_score(model, X_train, y_train, cv=sk_folds, scoring = 'precision_micro')\n",
    "table.add_row([\"Precision Score\", precision])\n",
    "table.add_row(['',''])\n",
    "table.add_row([\"Average Precision Score\", precision.mean()])\n",
    "table.add_row(['',''])\n",
    "\n",
    "recall = cross_val_score(model, X_train, y_train, cv=sk_folds, scoring = 'recall_micro')\n",
    "table.add_row([\"Recall Score\",  recall])\n",
    "table.add_row(['',''])\n",
    "table.add_row([\"Average Recall Score\",  recall.mean()])\n",
    "table.add_row(['',''])\n",
    "        \n",
    "f1 = cross_val_score(model, X_train, y_train, cv=sk_folds, scoring = 'f1_micro')\n",
    "table.add_row([\"F1 Score\", f1])\n",
    "table.add_row(['',''])\n",
    "table.add_row([\"Average F1 Score\",  f1.mean()])\n",
    "        \n",
    "print(table)\n",
    "print()"
   ]
  },
  {
   "cell_type": "code",
   "execution_count": 75,
   "id": "b8643e39",
   "metadata": {},
   "outputs": [
    {
     "data": {
      "text/html": [
       "<style>#sk-container-id-9 {color: black;background-color: white;}#sk-container-id-9 pre{padding: 0;}#sk-container-id-9 div.sk-toggleable {background-color: white;}#sk-container-id-9 label.sk-toggleable__label {cursor: pointer;display: block;width: 100%;margin-bottom: 0;padding: 0.3em;box-sizing: border-box;text-align: center;}#sk-container-id-9 label.sk-toggleable__label-arrow:before {content: \"▸\";float: left;margin-right: 0.25em;color: #696969;}#sk-container-id-9 label.sk-toggleable__label-arrow:hover:before {color: black;}#sk-container-id-9 div.sk-estimator:hover label.sk-toggleable__label-arrow:before {color: black;}#sk-container-id-9 div.sk-toggleable__content {max-height: 0;max-width: 0;overflow: hidden;text-align: left;background-color: #f0f8ff;}#sk-container-id-9 div.sk-toggleable__content pre {margin: 0.2em;color: black;border-radius: 0.25em;background-color: #f0f8ff;}#sk-container-id-9 input.sk-toggleable__control:checked~div.sk-toggleable__content {max-height: 200px;max-width: 100%;overflow: auto;}#sk-container-id-9 input.sk-toggleable__control:checked~label.sk-toggleable__label-arrow:before {content: \"▾\";}#sk-container-id-9 div.sk-estimator input.sk-toggleable__control:checked~label.sk-toggleable__label {background-color: #d4ebff;}#sk-container-id-9 div.sk-label input.sk-toggleable__control:checked~label.sk-toggleable__label {background-color: #d4ebff;}#sk-container-id-9 input.sk-hidden--visually {border: 0;clip: rect(1px 1px 1px 1px);clip: rect(1px, 1px, 1px, 1px);height: 1px;margin: -1px;overflow: hidden;padding: 0;position: absolute;width: 1px;}#sk-container-id-9 div.sk-estimator {font-family: monospace;background-color: #f0f8ff;border: 1px dotted black;border-radius: 0.25em;box-sizing: border-box;margin-bottom: 0.5em;}#sk-container-id-9 div.sk-estimator:hover {background-color: #d4ebff;}#sk-container-id-9 div.sk-parallel-item::after {content: \"\";width: 100%;border-bottom: 1px solid gray;flex-grow: 1;}#sk-container-id-9 div.sk-label:hover label.sk-toggleable__label {background-color: #d4ebff;}#sk-container-id-9 div.sk-serial::before {content: \"\";position: absolute;border-left: 1px solid gray;box-sizing: border-box;top: 0;bottom: 0;left: 50%;z-index: 0;}#sk-container-id-9 div.sk-serial {display: flex;flex-direction: column;align-items: center;background-color: white;padding-right: 0.2em;padding-left: 0.2em;position: relative;}#sk-container-id-9 div.sk-item {position: relative;z-index: 1;}#sk-container-id-9 div.sk-parallel {display: flex;align-items: stretch;justify-content: center;background-color: white;position: relative;}#sk-container-id-9 div.sk-item::before, #sk-container-id-9 div.sk-parallel-item::before {content: \"\";position: absolute;border-left: 1px solid gray;box-sizing: border-box;top: 0;bottom: 0;left: 50%;z-index: -1;}#sk-container-id-9 div.sk-parallel-item {display: flex;flex-direction: column;z-index: 1;position: relative;background-color: white;}#sk-container-id-9 div.sk-parallel-item:first-child::after {align-self: flex-end;width: 50%;}#sk-container-id-9 div.sk-parallel-item:last-child::after {align-self: flex-start;width: 50%;}#sk-container-id-9 div.sk-parallel-item:only-child::after {width: 0;}#sk-container-id-9 div.sk-dashed-wrapped {border: 1px dashed gray;margin: 0 0.4em 0.5em 0.4em;box-sizing: border-box;padding-bottom: 0.4em;background-color: white;}#sk-container-id-9 div.sk-label label {font-family: monospace;font-weight: bold;display: inline-block;line-height: 1.2em;}#sk-container-id-9 div.sk-label-container {text-align: center;}#sk-container-id-9 div.sk-container {/* jupyter's `normalize.less` sets `[hidden] { display: none; }` but bootstrap.min.css set `[hidden] { display: none !important; }` so we also need the `!important` here to be able to override the default hidden behavior on the sphinx rendered scikit-learn.org. See: https://github.com/scikit-learn/scikit-learn/issues/21755 */display: inline-block !important;position: relative;}#sk-container-id-9 div.sk-text-repr-fallback {display: none;}</style><div id=\"sk-container-id-9\" class=\"sk-top-container\"><div class=\"sk-text-repr-fallback\"><pre>LogisticRegression(max_iter=1000)</pre><b>In a Jupyter environment, please rerun this cell to show the HTML representation or trust the notebook. <br />On GitHub, the HTML representation is unable to render, please try loading this page with nbviewer.org.</b></div><div class=\"sk-container\" hidden><div class=\"sk-item\"><div class=\"sk-estimator sk-toggleable\"><input class=\"sk-toggleable__control sk-hidden--visually\" id=\"sk-estimator-id-9\" type=\"checkbox\" checked><label for=\"sk-estimator-id-9\" class=\"sk-toggleable__label sk-toggleable__label-arrow\">LogisticRegression</label><div class=\"sk-toggleable__content\"><pre>LogisticRegression(max_iter=1000)</pre></div></div></div></div></div>"
      ],
      "text/plain": [
       "LogisticRegression(max_iter=1000)"
      ]
     },
     "execution_count": 75,
     "metadata": {},
     "output_type": "execute_result"
    }
   ],
   "source": [
    "# Fitting model on training data\n",
    "model.fit(X_train,y_train)"
   ]
  },
  {
   "cell_type": "code",
   "execution_count": 76,
   "id": "1e84714c",
   "metadata": {},
   "outputs": [],
   "source": [
    "# Predicting class label for test data\n",
    "y_pred = model.predict(X_test)"
   ]
  },
  {
   "cell_type": "code",
   "execution_count": 77,
   "id": "2a6214ba",
   "metadata": {
    "scrolled": true
   },
   "outputs": [
    {
     "name": "stdout",
     "output_type": "stream",
     "text": [
      "+-------------------+--------------------+\n",
      "| Evaluation Metric |       Value        |\n",
      "+-------------------+--------------------+\n",
      "|      Accuracy     | 0.9148645127670662 |\n",
      "|     Precision     | 0.9148645127670662 |\n",
      "|       Recall      | 0.9148645127670662 |\n",
      "|      F1 Score     | 0.9148645127670662 |\n",
      "+-------------------+--------------------+\n"
     ]
    }
   ],
   "source": [
    "# Evaluating Model\n",
    "table = PrettyTable()\n",
    "table.field_names = [\"Evaluation Metric\", \"Value\"]\n",
    "\n",
    "conf_mat['Logistic Regression'] = confusion_matrix(y_test,y_pred)\n",
    "acc['Logistic Regression'] = accuracy_score(y_test,y_pred)\n",
    "\n",
    "# fraction of correctly predicted instances\n",
    "# 1 indicates perfect prediction accuracy and 0 indicates complete failure\n",
    "table.add_row([\"Accuracy\", accuracy_score(y_test,y_pred)])\n",
    "\n",
    "# ability of the classifier not to label as positive a sample that is negative\n",
    "# best value is 1 and the worst value is 0\n",
    "table.add_row([\"Precision\", precision_score(y_test, y_pred, average='micro')])\n",
    "\n",
    "# ability of the classifier to find all the positive samples\n",
    "# best value is 1 and the worst value is 0\n",
    "table.add_row([\"Recall\", recall_score(y_test, y_pred, average='micro')])\n",
    "\n",
    "# harmonic mean of the precision and recall\n",
    "# best value is 1 and the worst value is 0\n",
    "table.add_row([\"F1 Score\", f1_score(y_test, y_pred, average='micro')])\n",
    "\n",
    "print(table)"
   ]
  },
  {
   "cell_type": "code",
   "execution_count": 129,
   "id": "2c68f67e",
   "metadata": {},
   "outputs": [],
   "source": [
    "accuracies = [round(val,4) for val in list(acc.values())]"
   ]
  },
  {
   "cell_type": "code",
   "execution_count": 130,
   "id": "a8b64489",
   "metadata": {},
   "outputs": [
    {
     "data": {
      "image/png": "[encoded data removed]",
      "text/plain": [
       "<Figure size 600x400 with 1 Axes>"
      ]
     },
     "metadata": {},
     "output_type": "display_data"
    }
   ],
   "source": [
    "plt.figure(figsize=(6,4))\n",
    "ax = sns.barplot(x=list(acc.keys()), y=accuracies, palette='YlGnBu')\n",
    "ax.bar_label(ax.containers[0])\n",
    "plt.xticks(rotation=45)\n",
    "plt.show()"
   ]
  },
  {
   "cell_type": "code",
   "execution_count": null,
   "id": "02c12902",
   "metadata": {},
   "outputs": [],
   "source": []
  }
 ],
 "metadata": {
  "kernelspec": {
   "display_name": "Python 3 (ipykernel)",
   "language": "python",
   "name": "python3"
  },
  "language_info": {
   "codemirror_mode": {
    "name": "ipython",
    "version": 3
   },
   "file_extension": ".py",
   "mimetype": "text/x-python",
   "name": "python",
   "nbconvert_exporter": "python",
   "pygments_lexer": "ipython3",
   "version": "3.11.5"
  }
 },
 "nbformat": 4,
 "nbformat_minor": 5
}
